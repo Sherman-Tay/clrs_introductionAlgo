{
 "cells": [
  {
   "cell_type": "markdown",
   "metadata": {},
   "source": [
    "Dynamic Programming in a nutshell is to save each subproblem once, and save its answer. This leads us to not perform repeat in divide and conquer algorithms.<br>\n",
    "Each subproblem has a value and we want to find the optimal value.\n",
    "\n",
    "1. Characterize structure of optimal solution\n",
    "2. Recursively define value of optimal solution\n",
    "3. Compute value of optimal solution bottom-up\n",
    "4. Construct an optimal solution from computed information stored.\n",
    "<br>\n",
    "\n",
    "Applications include:\n",
    "\n",
    "1. Rod-cutting\n",
    "2. Memo-ization refers to us keeping a record of a value then looking it up.\n",
    "    * create new table and store value during recurs.\n",
    "3. graph sub-problems\n",
    "4. Matrix chain multiplication\n",
    "    * This can help us get the optimal sequence that does not need to perform as much computation\n",
    "5. Unweighted shortest path \n",
    "6. Longest common subsequence."
   ]
  }
 ],
 "metadata": {
  "kernelspec": {
   "display_name": "Python 3",
   "language": "python",
   "name": "python3"
  },
  "language_info": {
   "codemirror_mode": {
    "name": "ipython",
    "version": 3
   },
   "file_extension": ".py",
   "mimetype": "text/x-python",
   "name": "python",
   "nbconvert_exporter": "python",
   "pygments_lexer": "ipython3",
   "version": "3.8.2"
  }
 },
 "nbformat": 4,
 "nbformat_minor": 4
}
