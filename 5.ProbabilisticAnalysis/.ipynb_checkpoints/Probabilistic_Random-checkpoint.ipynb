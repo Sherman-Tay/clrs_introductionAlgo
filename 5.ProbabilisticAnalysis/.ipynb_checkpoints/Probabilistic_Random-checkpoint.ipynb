{
 "cells": [
  {
   "cell_type": "markdown",
   "metadata": {},
   "source": [
    "Key Take aways:\n",
    "1. Linearity of expectations applies even when there is dependence among random variables."
   ]
  },
  {
   "cell_type": "code",
   "execution_count": 6,
   "metadata": {},
   "outputs": [],
   "source": [
    "import random\n",
    "def randomHire(n):\n",
    "    \"input list n \"\n",
    "    random.shuffle(n)\n",
    "    best = 0\n",
    "    for i in range(len(n)):\n",
    "        if n[i]>best:\n",
    "            i = best\n",
    "    return best\n",
    "        #interview candidate. if candidate > 0 , best = candidate.  need to assign weights - kiv\n",
    "\n",
    "        "
   ]
  },
  {
   "cell_type": "code",
   "execution_count": 11,
   "metadata": {},
   "outputs": [],
   "source": [
    "#gives a uniform random permutation\n",
    "def randomizeInPlace(A):\n",
    "    n = len(A)\n",
    "    for i in range(n):\n",
    "        randIndex = random.randint(i,n-1)\n",
    "        #swap randomly with remaining\n",
    "        A[i],A[randIndex]=A[randIndex],A[i]\n",
    "    return A"
   ]
  },
  {
   "cell_type": "code",
   "execution_count": 12,
   "metadata": {},
   "outputs": [
    {
     "data": {
      "text/plain": [
       "[34, 6, 1, 5, 3, 0, 3, 2, 1, 5, 8, 2, 6]"
      ]
     },
     "execution_count": 12,
     "metadata": {},
     "output_type": "execute_result"
    }
   ],
   "source": [
    "Array = [2,3,5,1,5,34,0,6,3,2,1,6,8]\n",
    "randomizeInPlace(Array)"
   ]
  }
 ],
 "metadata": {
  "kernelspec": {
   "display_name": "Python 3",
   "language": "python",
   "name": "python3"
  },
  "language_info": {
   "codemirror_mode": {
    "name": "ipython",
    "version": 3
   },
   "file_extension": ".py",
   "mimetype": "text/x-python",
   "name": "python",
   "nbconvert_exporter": "python",
   "pygments_lexer": "ipython3",
   "version": "3.8.2"
  }
 },
 "nbformat": 4,
 "nbformat_minor": 2
}
