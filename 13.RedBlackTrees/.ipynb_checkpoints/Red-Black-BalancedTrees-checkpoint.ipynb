{
 "cells": [
  {
   "cell_type": "markdown",
   "metadata": {},
   "source": [
    "### Red Black Trees\n",
    "- Define what they are\n",
    "- related algorithms\n",
    "- evaluate them.\n",
    "\n",
    "A Red-Black tree is a binary search tree that has an added bit of storage per node. It has the attribute of color (Red or Black). This constraint ensures that there are no such path more than twice as long as any other.\n",
    "<br>\n",
    "RB Trees have the following property: <br>\n",
    "- Each Node is Either Red or Black\n",
    "- Root is always Black\n",
    "- Leafs are always Black\n",
    "- If Node is Red, Both of its children are Black\n",
    "- All Simple paths for each Node from Node to Descendant Leaves consist of same number of Black Nodes\n",
    "\n",
    "     * For ease of representation when drawing, represent NIL with sentinel\n",
    "     * We call number of black nodes on any simple path as black-height or $bh(x)$\n",
    "     * It follows that black-height of a red-black tree is the black-height of its root\n",
    "- Red black tree with n Internal Nodes(non Leaves) has height at most $2lg(n+1)$"
   ]
  },
  {
   "cell_type": "markdown",
   "metadata": {},
   "source": [
    "Proof of internal height of $2lg(n+1)$.<br>\n",
    "By mathematical induction, we prove that number of internal nodes at least $2^{bh(x)} -1$. Since height of child of x iss less than the height of x itself, we can conclude that the child has at least $2^{bh(x)-1}-1$ internal nodes. <br>\n",
    "Therefore, the subrooted tree at x contains at least $(2^{bh(x)-1}-1)+(2^{bh(x)-1}-1) +1 = (2^{bh(x)-1}-1)$ internal nodes. <br>\n",
    "if $h$ is height of tree, at least half the nodes on any simple path from root to a leaf MUST be black. Therefore black-height of root must be at least h/2. thus<br>\n",
    "$n \\geq 2^{h/2} -1$ <br>\n",
    "$n +1 \\geq 2^{h/2}$ <br>\n",
    "$ 2lg(n+1) \\geq h$ <br>\n",
    "\n",
    "<b>SO..</b> what does this mean?<br>\n",
    "Implement dynamic-set operations search, min,max,successor,predecessor in $O(lgn)$ time in red-black trees, since each run can run in $O(h)$ in binary search trees of height h. <br>\n",
    "\n",
    "Caveat is that the typical tree insert and tree deletion for regular BST does not quite work for red-black trees. It requires modification, as the previous method may violate the red-black properties. We must ensure that we change restore these properties by changing some of the color and pointer structure. This is done through <b>rotation operation</b> to left or right.<br>\n",
    "\n",
    "Rotations\n",
    "- When we do left rotation on Node x, we assume its right child y is not NIL. Left rotation pivots around the link from x to y \n",
    "    * y becomes new root\n",
    "    * x becomes y's left child\n",
    "    * x keeps left child\n",
    "    * y's left child becomes x's right child\n",
    "    * y keeps right child."
   ]
  },
  {
   "cell_type": "code",
   "execution_count": 1,
   "metadata": {},
   "outputs": [],
   "source": [
    "class Node:\n",
    "    def __init__(self,data):\n",
    "        self.left = None\n",
    "        self.right = None\n",
    "        self.parent = None\n",
    "        self.color = None\n",
    "        \n",
    "def leftRotate(T,x):\n",
    "    #set y and turn y's left sub to x's right sub\n",
    "    y = x.right\n",
    "    x.right = y.left\n",
    "    if y.left:\n",
    "        y.left.parent = x\n",
    "    y.parent = x.parent\n",
    "    if x.parent is None:\n",
    "        y.parent = None #root\n",
    "        #if not root, x is either left or right child. set as such\n",
    "    elif x == x.parent.left:\n",
    "        x.parent.left = y\n",
    "    else: x.parent.right = y\n",
    "    y.left = x\n",
    "    x.parent = y\n",
    "    \n",
    "def rightRotate(T,x):\n",
    "    #set y\n",
    "    y = x.left\n",
    "    #rotate about y\n",
    "    x.left = y.right \n",
    "    if y.right:\n",
    "        y.right.parent = x\n",
    "    y.parent = x.parent\n",
    "    if x.parent = None:\n",
    "        #set as root\n",
    "        y.parent = None\n",
    "    elif x==x.parent.left:\n",
    "        x.parent.left = y\n",
    "    else: \n",
    "        x.parent.right = y\n",
    "    y.right = x\n",
    "    x.parent = y\n",
    "        \n",
    "    "
   ]
  },
  {
   "cell_type": "code",
   "execution_count": null,
   "metadata": {},
   "outputs": [],
   "source": []
  }
 ],
 "metadata": {
  "kernelspec": {
   "display_name": "Python 3",
   "language": "python",
   "name": "python3"
  },
  "language_info": {
   "codemirror_mode": {
    "name": "ipython",
    "version": 3
   },
   "file_extension": ".py",
   "mimetype": "text/x-python",
   "name": "python",
   "nbconvert_exporter": "python",
   "pygments_lexer": "ipython3",
   "version": "3.8.2"
  }
 },
 "nbformat": 4,
 "nbformat_minor": 4
}
