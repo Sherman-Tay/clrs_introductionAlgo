{
 "cells": [
  {
   "cell_type": "markdown",
   "metadata": {},
   "source": [
    "# Hash Tables\n",
    "\n",
    "Hash tables is effective in implementing dictionaries. It performs extremely well under reasonable assumption that time average to search for element in a hash table is $O(1)$.<br>\n",
    "\n",
    "- Enables direct addressing.\n",
    "- hash table typically uses array size proportional to number of keys stored.\n",
    "\n",
    "<br> \n",
    "\n",
    "Direct addressing is a simple technique that works well if universe U of keys is reasonably small. We can represent the direct-address table by an array T[0..m-1] in which each slot corresponds to a key in the universe U. <br>\n",
    "\n",
    "Downside of direct addressing is : if universe U is large, table T can be impractical. Actual set of keys stored might also be small relative, hence wasting space. A Hash table requires much less storage while maintaining search to $O(1)$ on average. \n",
    "- difference between direct addressing is key is stored in $h(k)$ instead of $k.$ which is a hash function, computing slot from key k, mapping universe of keys to the hash table T. \n",
    "- We call $h(k)$ the hash value of key $k$.\n",
    "- if the key is addressed to the same slot, it collides, which si resolved by chaining/concat, where it contains a linked list of all keys whose hash is j. "
   ]
  },
  {
   "cell_type": "code",
   "execution_count": 5,
   "metadata": {},
   "outputs": [],
   "source": [
    "def directAddressSearch(T,k):\n",
    "    return T[k]\n",
    "\n",
    "def directAddressInsert(T,x):\n",
    "    T[x.key]=x\n",
    "def directAddressDelete(T,x):\n",
    "    T[x.key]=NIL"
   ]
  },
  {
   "cell_type": "code",
   "execution_count": 6,
   "metadata": {},
   "outputs": [
    {
     "ename": "IndentationError",
     "evalue": "expected an indented block (<ipython-input-6-b1bafed185ef>, line 6)",
     "output_type": "error",
     "traceback": [
      "\u001b[0;36m  File \u001b[0;32m\"<ipython-input-6-b1bafed185ef>\"\u001b[0;36m, line \u001b[0;32m6\u001b[0m\n\u001b[0;31m    def chainhashSearch(T,k):\u001b[0m\n\u001b[0m    ^\u001b[0m\n\u001b[0;31mIndentationError\u001b[0m\u001b[0;31m:\u001b[0m expected an indented block\n"
     ]
    }
   ],
   "source": [
    "#slot j contains pointer to head of list to all stored elements in j\n",
    "\n",
    "def chainhashInsert(T,x):\n",
    "    #insert x at the head of list T[h(x.key)]\n",
    "    \n",
    "def chainhashSearch(T,k):\n",
    "    #search element key k in list T[h(k)]\n",
    "    \n",
    "def chainhashDel(T,x):\n",
    "    #delete x from list T[h(x.key)]"
   ]
  },
  {
   "cell_type": "markdown",
   "metadata": {},
   "source": [
    "Creating Hash Functions<br>\n",
    "\n",
    "- Heuristic Hashing\n",
    "    * Hash by division\n",
    "    * Hash by multiplication\n",
    "- Universal hashing\n",
    "    * Randomized \n",
    "    \n",
    "<br>\n",
    "\n",
    "A good hashing function satisfies as much as possible simple uniform hashing (equal likelihood and independent). \n",
    "\n",
    "## Division Method\n",
    "Map a key k into one of m slots by taking remainder of k by m.<br>\n",
    "$h(k) = k$ mod $m$<br>\n",
    "m should not be power of 2 -> if $m=2^p$ , then $h(k)$ is just the low order bits. <br>\n",
    "A prime number not too close to an exact power of 2 is often good. \n",
    "\n",
    "## Multiplication Method\n",
    "Multiplies key k by a constant A, where $ 0 < A < 1$, and extract the fraction part of k A. We then multiply this fraction by m and take the floor of the result. <br>\n",
    "$h(k) =$ floor$m * (kA$mod$1)$\n",
    "\n",
    "## Universal Hashing\n",
    "Random and independent way of storing. We first select the hash function at random from a carefully designed class of functions. Algorithm can be different based on each execution. This guarantees a good average case. <br>\n",
    "\n",
    "- djb2 \n",
    "    * djb2 is a popular hash function algorithm.\n",
    "    * apparently number 33 works more optimally than most constants prime or not. \n",
    "    * hash = (hash <<5)+hash +c ; hash *33 +c \n",
    "- unif distrib\n",
    "- avoid collisions\n",
    "- fast compute\n"
   ]
  },
  {
   "cell_type": "code",
   "execution_count": 20,
   "metadata": {},
   "outputs": [],
   "source": [
    "def hashdbj2(key):\n",
    "    hash = 5381\n",
    "    for c in key:\n",
    "        hash = (hash*33)+ord(c) \n",
    "    return hash\n",
    "\n"
   ]
  },
  {
   "cell_type": "markdown",
   "metadata": {},
   "source": [
    "### Open Addressing\n",
    "- if we dont want to use additional data structure(linekdlist)\n",
    "\n",
    "- linear probing -> \n",
    "    * we store key value pairs within array itself. -> check directly next to it for empty. \n",
    "- Double hashing -> \n",
    "    * if collision, we pick a number as an interval to check for empty open address. \n",
    "    * less likely to have clusters. \n",
    "    * i = $h_1$(key) mod 8\n",
    "    * (i+c) mod 8 \n",
    "    * (i+2c) mod8 \n",
    "    * greater common factor (c,m) = 1 (m is prime)\n",
    "    * c <- {$h_2$(key) mod (m-1)} +1\n",
    "<br>\n",
    "All elements occupy the hash table itself. Each table entry contains either an element or NIL. Hash talbes can fill up such that no insertions can be made, so load factor can never exceed 1. This way we avoid pointers all together. We compute the sequence of slot to be examined/probed. <br>\n",
    "\n",
    "A Good hash function needs\n",
    "- Never evaluate to Zero\n",
    "- Ensure all cells can be probed"
   ]
  },
  {
   "cell_type": "code",
   "execution_count": 24,
   "metadata": {},
   "outputs": [
    {
     "name": "stdout",
     "output_type": "stream",
     "text": [
      "[26, None, 54, 94, 17, 31, 44, 51, None, None, None, None, 77]\n"
     ]
    }
   ],
   "source": [
    "def double_hashing(keys, hashtable_size, double_hash_value):\n",
    "    hashtable_list = [None] * hashtable_size\n",
    "    for i in range(len(keys)):\n",
    "        hashkey = keys[i] % hashtable_size \n",
    "        if hashtable_list[hashkey] is None: #if unoccupied, just slot in.\n",
    "            hashtable_list[hashkey] = keys[i]\n",
    "        else: #if collision\n",
    "            new_hashkey = hashkey\n",
    "            while hashtable_list[new_hashkey] is not None:\n",
    "                steps = double_hash_value - (keys[i] % double_hash_value)\n",
    "                new_hashkey = (new_hashkey + steps) % hashtable_size  \n",
    "            hashtable_list[new_hashkey] = keys[i]\n",
    "    return hashtable_list  \n",
    "\n",
    "\n",
    "values = [26, 54, 94, 17, 31, 77, 44, 51]\n",
    "print( double_hashing(values, 13, 5) )"
   ]
  },
  {
   "cell_type": "code",
   "execution_count": 27,
   "metadata": {},
   "outputs": [
    {
     "name": "stdout",
     "output_type": "stream",
     "text": [
      "[26, 51, 54, 94, 17, 31, 44, None, None, None, None, None, 77]\n"
     ]
    }
   ],
   "source": [
    "def linear_probe(keys, hashtable_size):\n",
    "    hashtable_list = [None] * hashtable_size\n",
    "    for i in range(len(keys)):\n",
    "        hashkey = keys[i] % hashtable_size \n",
    "        if hashtable_list[hashkey] is None: #if unoccupied, just slot in.\n",
    "            hashtable_list[hashkey] = keys[i]\n",
    "        else: #if collision\n",
    "            new_hashkey = hashkey\n",
    "            while hashtable_list[new_hashkey] is not None:\n",
    "                new_hashkey = (new_hashkey + 1) % hashtable_size  \n",
    "            hashtable_list[new_hashkey] = keys[i]\n",
    "    return hashtable_list  \n",
    "\n",
    "values = [26, 54, 94, 17, 31, 77, 44, 51]\n",
    "print( linear_probe(values, 13) )\n",
    "\n",
    "#can use a better hash func."
   ]
  },
  {
   "cell_type": "code",
   "execution_count": 21,
   "metadata": {},
   "outputs": [],
   "source": [
    "class HashTable(object):\n",
    "    def __init__(self):\n",
    "        self.max_length = 8\n",
    "        #this is alpha which is n/m\n",
    "        self.max_load_factor =0.75\n",
    "        self.length = 0\n",
    "        self.table = [None] * self.max_length\n",
    "        \n",
    "    def __len__(self):\n",
    "        return self.length\n",
    "    \n",
    "    def __setitem__(self, key, value):\n",
    "        self.length += 1\n",
    "        hashed_key = self._hash(key)\n",
    "        while self.table[hashed_key] is not None:\n",
    "            if self.table[hashed_key][0] == key:\n",
    "                self.length -= 1\n",
    "                break\n",
    "            hashed_key = self._increment_key(hashed_key)\n",
    "        tuple = (key, value)\n",
    "        self.table[hashed_key] = tuple\n",
    "        if self.length / float(self.max_length) >= self.max_load_factor:\n",
    "            self._resize()\n",
    "\n",
    "    def __getitem__(self, key):\n",
    "        index = self._find_item(key)\n",
    "        return self.table[index][1]\n",
    "\n",
    "    def __delitem__(self, key):\n",
    "        index = self._find_item(key)\n",
    "        self.table[index] = None\n",
    "\n",
    "    def _hash(self, key):\n",
    "        hash = 5381\n",
    "        for c in key:\n",
    "            hash = (hash*33)+ord(c) \n",
    "        return hash(key) % self.max_length\n",
    "\n",
    "    def _increment_key(self, key):\n",
    "        return (key + 1) % self.max_length\n",
    "\n",
    "    def _find_item(self, key):\n",
    "        hashed_key = self._hash(key)\n",
    "        if self.table[hashed_key] is None:\n",
    "            raise KeyError\n",
    "        if self.table[hashed_key][0] != key:\n",
    "            original_key = hashed_key\n",
    "            while self.table[hashed_key][0] != key:\n",
    "                hashed_key = self._increment_key(hashed_key)\n",
    "                if self.table[hashed_key] is None:\n",
    "                    raise KeyError\n",
    "                if hashed_key == original_key:\n",
    "                    raise KeyError\n",
    "        return hashed_key\n",
    "\n",
    "    def _resize(self):\n",
    "        self.max_length *= 2\n",
    "        self.length = 0\n",
    "        old_table = self.table\n",
    "        self.table = [None] * self.max_length\n",
    "        for tuple in old_table:\n",
    "            if tuple is not None:\n",
    "                self[tuple[0]] = tuple[1]"
   ]
  }
 ],
 "metadata": {
  "kernelspec": {
   "display_name": "Python 3",
   "language": "python",
   "name": "python3"
  },
  "language_info": {
   "codemirror_mode": {
    "name": "ipython",
    "version": 3
   },
   "file_extension": ".py",
   "mimetype": "text/x-python",
   "name": "python",
   "nbconvert_exporter": "python",
   "pygments_lexer": "ipython3",
   "version": "3.8.2"
  }
 },
 "nbformat": 4,
 "nbformat_minor": 4
}
