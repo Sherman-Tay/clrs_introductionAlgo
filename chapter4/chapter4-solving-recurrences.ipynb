{
 "cells": [
  {
   "cell_type": "markdown",
   "metadata": {},
   "source": [
    "There are 3 main methods to solving recurrences.<br>\n",
    "1. Substitution method<br>\n",
    "2. Recursion tree <br>\n",
    "3. Master method<br> \n",
    "\n",
    "this notebook is to talk about and understand better the 3 approaches and the relevant pitfalls"
   ]
  }
 ],
 "metadata": {
  "kernelspec": {
   "display_name": "Python 3",
   "language": "python",
   "name": "python3"
  },
  "language_info": {
   "codemirror_mode": {
    "name": "ipython",
    "version": 3
   },
   "file_extension": ".py",
   "mimetype": "text/x-python",
   "name": "python",
   "nbconvert_exporter": "python",
   "pygments_lexer": "ipython3",
   "version": "3.8.2"
  }
 },
 "nbformat": 4,
 "nbformat_minor": 2
}
