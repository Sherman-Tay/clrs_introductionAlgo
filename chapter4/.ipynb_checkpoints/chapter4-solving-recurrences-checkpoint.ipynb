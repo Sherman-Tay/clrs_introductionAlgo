{
 "cells": [
  {
   "cell_type": "markdown",
   "metadata": {},
   "source": [
    "There are 3 main methods to solving recurrences.<br>\n",
    "1. Substitution method<br>\n",
    "2. Recursion tree <br>\n",
    "3. Master method<br> \n",
    "\n",
    "this notebook is to talk about and understand better the 3 approaches and the relevant pitfalls"
   ]
  },
  {
   "cell_type": "markdown",
   "metadata": {},
   "source": [
    "<b>Substitution</b><br>\n",
    "This involves 2 steps\n",
    "1. Guessing the form of solution\n",
    "2. use mathematical induction to find constants and show the solution works\n",
    "\n",
    "<br> \n",
    "- we have to be able to guess the form of the solution first. this comes with experience. Similar recursions have similar answers. \n",
    "- we can also do this by setting looser bounds initially and tighten them as they converge\n",
    "- note that induction still fails at times to prove detailed bounds"
   ]
  }
 ],
 "metadata": {
  "kernelspec": {
   "display_name": "Python 3",
   "language": "python",
   "name": "python3"
  },
  "language_info": {
   "codemirror_mode": {
    "name": "ipython",
    "version": 3
   },
   "file_extension": ".py",
   "mimetype": "text/x-python",
   "name": "python",
   "nbconvert_exporter": "python",
   "pygments_lexer": "ipython3",
   "version": "3.8.2"
  }
 },
 "nbformat": 4,
 "nbformat_minor": 2
}
