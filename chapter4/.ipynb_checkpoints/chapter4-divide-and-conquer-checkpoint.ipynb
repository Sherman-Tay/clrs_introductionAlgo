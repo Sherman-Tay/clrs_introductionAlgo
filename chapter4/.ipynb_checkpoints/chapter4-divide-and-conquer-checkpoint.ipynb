{
 "cells": [
  {
   "cell_type": "markdown",
   "metadata": {},
   "source": [
    "<b>Divide</b> the problem into a number of subproblems that are smaller instances of the\n",
    "same problem. <br>\n",
    "<b>Conquer</b> the subproblems by solving them recursively. If the subproblem sizes are\n",
    "small enough, however, just solve the subproblems in a straightforward manner.<br>\n",
    "<b>Combine</b> the solutions to the subproblems into the solution for the original problem.<br>\n",
    "When the subproblems are large enough to solve recursively, we call that the recursive case.<br>\n",
    "when the subproblem become small enough that we can no longer recurse, we call that <b>bottom out</b> <br>\n",
    "when we solve problems that are not quite the same as the original problem, it is usually counted as the combine step <br>\n",
    "\n",
    "A recurrence is an equation or inequality that describes a function in term of its value on smaller inputs."
   ]
  },
  {
   "cell_type": "markdown",
   "metadata": {},
   "source": [
    "<b>Maximum Array Subproblem (Naive approach)</b><br>\n",
    "run two loops. The outer loop picks the beginning element, the inner loop finds the maximum possible sum with first element picked by outer loop and compares this maximum with the overall maximum. Finally return the overall maximum.<br>\n",
    "This has complexity of bigO n^2"
   ]
  },
  {
   "cell_type": "code",
   "execution_count": 56,
   "metadata": {},
   "outputs": [],
   "source": [
    "def maxArrayNaive(A):\n",
    "    max_Sum = 0\n",
    "    low = high = 0\n",
    "    for i in range(0,len(A)):\n",
    "        sum = 0\n",
    "        for j in range(i,len(A)):\n",
    "            sum+=A[j]\n",
    "            if (sum > max_Sum):\n",
    "                max_Sum = sum\n",
    "                low = i\n",
    "                high = j\n",
    "    return(max_Sum,low,high)\n"
   ]
  },
  {
   "cell_type": "code",
   "execution_count": 57,
   "metadata": {},
   "outputs": [
    {
     "data": {
      "text/plain": [
       "(6, 3, 6)"
      ]
     },
     "execution_count": 57,
     "metadata": {},
     "output_type": "execute_result"
    }
   ],
   "source": [
    "array1 = [-2, 1, -3, 4, -1, 2, 1, -5, 4]\n",
    "maxArrayNaive(array1)"
   ]
  },
  {
   "cell_type": "code",
   "execution_count": 55,
   "metadata": {},
   "outputs": [
    {
     "data": {
      "text/plain": [
       "(3, 6, 6)"
      ]
     },
     "execution_count": 55,
     "metadata": {},
     "output_type": "execute_result"
    }
   ],
   "source": [
    "maxSubarray(array1,0,8)"
   ]
  },
  {
   "cell_type": "markdown",
   "metadata": {},
   "source": [
    "<b>Maximum Array Subproblem (divide and conquer approach)</b><br>\n",
    "Find max crossing subarray, find the max within lower half, and the max within upper half and compare <br>\n",
    "This has complexity nlgn -> break it into n/2 each recursion"
   ]
  },
  {
   "cell_type": "code",
   "execution_count": 29,
   "metadata": {},
   "outputs": [],
   "source": [
    "def maxCrossingSubarray(A,low,high,mid):\n",
    "    sum = 0 \n",
    "    max_left = max_right = mid\n",
    "    left_sum = -100\n",
    "    for i in range(mid,low,-1):\n",
    "        sum = sum + A[i]\n",
    "        if sum > left_sum:\n",
    "            left_sum = sum\n",
    "            max_left = i\n",
    "    right_sum = -100\n",
    "    sum = 0\n",
    "    for j in range(mid+1,high):\n",
    "        sum = sum + A[j]\n",
    "        if sum > right_sum:\n",
    "            right_sum=sum\n",
    "            max_right = j\n",
    "    return(max_left,max_right,right_sum+left_sum)\n",
    "            "
   ]
  },
  {
   "cell_type": "code",
   "execution_count": 64,
   "metadata": {},
   "outputs": [],
   "source": [
    "Array = [1,2,3,-4,5,-6,7,-8,9,-2,10,2,-40]"
   ]
  },
  {
   "cell_type": "code",
   "execution_count": 60,
   "metadata": {},
   "outputs": [],
   "source": [
    "def maxSubarray(A,low,high):\n",
    "    if high == low:\n",
    "        return(low,high,A[low])\n",
    "    else:\n",
    "        mid = (high+low)//2\n",
    "        #get the maximum array that crosses the midpoint\n",
    "        (cross_low,cross_high,cross_sum)= maxCrossingSubarray(A,low,high,mid)\n",
    "        #recursively get the max left subarray and right subarray\n",
    "        (left_low,left_high,left_sum)= maxSubarray(A,low,mid)\n",
    "        (right_low,right_high,right_sum)= maxSubarray(A,mid+1,high)\n",
    "    \n",
    "    if left_sum >= right_sum and left_sum >= cross_sum:\n",
    "        return(left_low,left_high,left_sum)\n",
    "    elif right_sum >= cross_sum:\n",
    "        return(right_low,right_high,right_sum)\n",
    "    else: return(cross_low,cross_high,cross_sum)\n",
    "    \n"
   ]
  },
  {
   "cell_type": "code",
   "execution_count": 61,
   "metadata": {},
   "outputs": [
    {
     "data": {
      "text/plain": [
       "(8, 11, 19)"
      ]
     },
     "execution_count": 61,
     "metadata": {},
     "output_type": "execute_result"
    }
   ],
   "source": [
    "maxSubarray(Array,0,12)"
   ]
  },
  {
   "cell_type": "code",
   "execution_count": 66,
   "metadata": {},
   "outputs": [],
   "source": [
    "def kadaneAlgo(A):\n",
    "    \n",
    "    max_so_far = max_ending_here = 0\n",
    "    low = high =0\n",
    "    #find the longest positive streak from each point in array\n",
    "    for i in range(0, len(A)): \n",
    "        max_ending_here = max_ending_here + A[i] \n",
    "        if (max_so_far < max_ending_here): \n",
    "            max_so_far = max_ending_here \n",
    "        #if less than 0, set to 0\n",
    "        if max_ending_here < 0: \n",
    "            max_ending_here = 0\n",
    "    return max_so_far "
   ]
  },
  {
   "cell_type": "code",
   "execution_count": 67,
   "metadata": {},
   "outputs": [
    {
     "data": {
      "text/plain": [
       "19"
      ]
     },
     "execution_count": 67,
     "metadata": {},
     "output_type": "execute_result"
    }
   ],
   "source": [
    "kadaneAlgo(Array)"
   ]
  },
  {
   "cell_type": "markdown",
   "metadata": {},
   "source": [
    "<b>Matrix multiplication</b> Brute force : big theta n3"
   ]
  },
  {
   "cell_type": "code",
   "execution_count": 75,
   "metadata": {},
   "outputs": [],
   "source": [
    "def squareMatMul(A,B):\n",
    "    #iterate for rows A\n",
    "    for i in range(len(A)):\n",
    "   # iterate through columns of B\n",
    "        for j in range(len(B[0])):\n",
    "       # iterate through rows of B\n",
    "           for k in range(len(B)):\n",
    "               result[i][j] += A[i][k] * B[k][j]\n"
   ]
  },
  {
   "cell_type": "code",
   "execution_count": 79,
   "metadata": {},
   "outputs": [
    {
     "name": "stdout",
     "output_type": "stream",
     "text": [
      "[114, 160, 60, 27]\n",
      "[74, 97, 73, 14]\n",
      "[119, 157, 112, 23]\n"
     ]
    }
   ],
   "source": [
    "# 3x3 matrix\n",
    "A = [[12,7,3],\n",
    "    [4 ,5,6],\n",
    "    [7 ,8,9]]\n",
    "# 3x4 matrix\n",
    "B = [[5,8,1,2],\n",
    "    [6,7,3,0],\n",
    "    [4,5,9,1]]\n",
    "result = [[0,0,0,0],\n",
    "         [0,0,0,0],\n",
    "         [0,0,0,0]]\n",
    "squareMatMul(A,B)\n",
    "for r in result: print(r)"
   ]
  },
  {
   "cell_type": "markdown",
   "metadata": {},
   "source": [
    "<b>Matrix multiplication</b> simple divide and conquer"
   ]
  }
 ],
 "metadata": {
  "kernelspec": {
   "display_name": "Python 3",
   "language": "python",
   "name": "python3"
  },
  "language_info": {
   "codemirror_mode": {
    "name": "ipython",
    "version": 3
   },
   "file_extension": ".py",
   "mimetype": "text/x-python",
   "name": "python",
   "nbconvert_exporter": "python",
   "pygments_lexer": "ipython3",
   "version": "3.8.2"
  }
 },
 "nbformat": 4,
 "nbformat_minor": 2
}
