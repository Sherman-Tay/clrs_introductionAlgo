{
 "cells": [
  {
   "cell_type": "markdown",
   "metadata": {},
   "source": [
    "<b>Divide</b> the problem into a number of subproblems that are smaller instances of the\n",
    "same problem. <br>\n",
    "<b>Conquer</b> the subproblems by solving them recursively. If the subproblem sizes are\n",
    "small enough, however, just solve the subproblems in a straightforward manner.<br>\n",
    "<b>Combine</b> the solutions to the subproblems into the solution for the original problem.<br>\n",
    "When the subproblems are large enough to solve recursively, we call that the recursive case.<br>\n",
    "when the subproblem become small enough that we can no longer recurse, we call that <b>bottom out</b> <br>\n",
    "when we solve problems that are not quite the same as the original problem, it is usually counted as the combine step <br>\n",
    "\n",
    "A recurrence is an equation or inequality that describes a function in term of its value on smaller inputs."
   ]
  },
  {
   "cell_type": "markdown",
   "metadata": {},
   "source": [
    "<b>Maximum Array Subproblem (Naive approach)</b><br>\n",
    "run two loops. The outer loop picks the beginning element, the inner loop finds the maximum possible sum with first element picked by outer loop and compares this maximum with the overall maximum. Finally return the overall maximum.<br>\n",
    "This has complexity of bigO n^2"
   ]
  },
  {
   "cell_type": "code",
   "execution_count": 56,
   "metadata": {},
   "outputs": [],
   "source": [
    "def maxArrayNaive(A):\n",
    "    max_Sum = 0\n",
    "    low = high = 0\n",
    "    for i in range(0,len(A)):\n",
    "        sum = 0\n",
    "        for j in range(i,len(A)):\n",
    "            sum+=A[j]\n",
    "            if (sum > max_Sum):\n",
    "                max_Sum = sum\n",
    "                low = i\n",
    "                high = j\n",
    "    return(max_Sum,low,high)\n"
   ]
  },
  {
   "cell_type": "code",
   "execution_count": 57,
   "metadata": {},
   "outputs": [
    {
     "data": {
      "text/plain": [
       "(6, 3, 6)"
      ]
     },
     "execution_count": 57,
     "metadata": {},
     "output_type": "execute_result"
    }
   ],
   "source": [
    "array1 = [-2, 1, -3, 4, -1, 2, 1, -5, 4]\n",
    "maxArrayNaive(array1)"
   ]
  },
  {
   "cell_type": "code",
   "execution_count": 55,
   "metadata": {},
   "outputs": [
    {
     "data": {
      "text/plain": [
       "(3, 6, 6)"
      ]
     },
     "execution_count": 55,
     "metadata": {},
     "output_type": "execute_result"
    }
   ],
   "source": [
    "maxSubarray(array1,0,8)"
   ]
  },
  {
   "cell_type": "markdown",
   "metadata": {},
   "source": [
    "<b>Maximum Array Subproblem (divide and conquer approach)</b><br>\n",
    "Find max crossing subarray, find the max within lower half, and the max within upper half and compare <br>\n",
    "This has complexity nlgn -> break it into n/2 each recursion"
   ]
  },
  {
   "cell_type": "code",
   "execution_count": 29,
   "metadata": {},
   "outputs": [],
   "source": [
    "def maxCrossingSubarray(A,low,high,mid):\n",
    "    sum = 0 \n",
    "    max_left = max_right = mid\n",
    "    left_sum = -100\n",
    "    for i in range(mid,low,-1):\n",
    "        sum = sum + A[i]\n",
    "        if sum > left_sum:\n",
    "            left_sum = sum\n",
    "            max_left = i\n",
    "    right_sum = -100\n",
    "    sum = 0\n",
    "    for j in range(mid+1,high):\n",
    "        sum = sum + A[j]\n",
    "        if sum > right_sum:\n",
    "            right_sum=sum\n",
    "            max_right = j\n",
    "    return(max_left,max_right,right_sum+left_sum)\n",
    "            "
   ]
  },
  {
   "cell_type": "code",
   "execution_count": 64,
   "metadata": {},
   "outputs": [],
   "source": [
    "Array = [1,2,3,-4,5,-6,7,-8,9,-2,10,2,-40]"
   ]
  },
  {
   "cell_type": "code",
   "execution_count": 60,
   "metadata": {},
   "outputs": [],
   "source": [
    "def maxSubarray(A,low,high):\n",
    "    if high == low:\n",
    "        return(low,high,A[low])\n",
    "    else:\n",
    "        mid = (high+low)//2\n",
    "        #get the maximum array that crosses the midpoint\n",
    "        (cross_low,cross_high,cross_sum)= maxCrossingSubarray(A,low,high,mid)\n",
    "        #recursively get the max left subarray and right subarray\n",
    "        (left_low,left_high,left_sum)= maxSubarray(A,low,mid)\n",
    "        (right_low,right_high,right_sum)= maxSubarray(A,mid+1,high)\n",
    "    \n",
    "    if left_sum >= right_sum and left_sum >= cross_sum:\n",
    "        return(left_low,left_high,left_sum)\n",
    "    elif right_sum >= cross_sum:\n",
    "        return(right_low,right_high,right_sum)\n",
    "    else: return(cross_low,cross_high,cross_sum)\n",
    "    \n"
   ]
  },
  {
   "cell_type": "code",
   "execution_count": 61,
   "metadata": {},
   "outputs": [
    {
     "data": {
      "text/plain": [
       "(8, 11, 19)"
      ]
     },
     "execution_count": 61,
     "metadata": {},
     "output_type": "execute_result"
    }
   ],
   "source": [
    "maxSubarray(Array,0,12)"
   ]
  },
  {
   "cell_type": "code",
   "execution_count": 124,
   "metadata": {},
   "outputs": [],
   "source": [
    "def kadaneAlgo(A):\n",
    "    \n",
    "    max_so_far = max_ending_here = 0\n",
    "    low = high =0\n",
    "    #find the longest positive streak from each point in array\n",
    "    for i in range(0, len(A)): \n",
    "        max_ending_here = max_ending_here + A[i] \n",
    "        if (max_so_far < max_ending_here): \n",
    "            max_so_far = max_ending_here \n",
    "        #if less than 0, set to 0\n",
    "        if max_ending_here < 0: \n",
    "            max_ending_here = 0\n",
    "    return max_so_far "
   ]
  },
  {
   "cell_type": "code",
   "execution_count": 126,
   "metadata": {},
   "outputs": [
    {
     "data": {
      "text/plain": [
       "19"
      ]
     },
     "execution_count": 126,
     "metadata": {},
     "output_type": "execute_result"
    }
   ],
   "source": [
    "kadaneAlgo(Array)"
   ]
  },
  {
   "cell_type": "markdown",
   "metadata": {},
   "source": [
    "<b>Matrix multiplication</b> Brute force : big theta n3"
   ]
  },
  {
   "cell_type": "code",
   "execution_count": 145,
   "metadata": {},
   "outputs": [],
   "source": [
    "#have to initialize and create matrix with 0s\n",
    "def matrixZeros(p,q): \n",
    "    matrix = [[0 for col in range(q)] for row in range(p)]\n",
    "    return matrix\n",
    "            \n",
    "def matrixMult(a,b):\n",
    "    #number of column must equal number of rows for matrix multiplication \n",
    "    if len(a[0]) != len(b):\n",
    "        return \"error. matrices not m*n and n*p\"\n",
    "    else:\n",
    "        result = matrixZeros(len(a),len(b[0]))\n",
    "        for i in range(len(a)):\n",
    "            for j in range(len(b[0])):\n",
    "                for k in range(len(b)):\n",
    "                    result[i][j] += a[i][k] * b[k][j]\n",
    "    return result\n"
   ]
  },
  {
   "cell_type": "code",
   "execution_count": 146,
   "metadata": {},
   "outputs": [
    {
     "data": {
      "text/plain": [
       "[[114, 160, 60, 27], [74, 97, 73, 14], [119, 157, 112, 23]]"
      ]
     },
     "execution_count": 146,
     "metadata": {},
     "output_type": "execute_result"
    }
   ],
   "source": [
    "# 3x3 matrix\n",
    "A = [[12,7,3],[4 ,5,6],[7 ,8,9]]\n",
    "# 3x4 matrix\n",
    "B = [[5,8,1,2],[6,7,3,0],[4,5,9,1]]\n",
    "matrixMult(A,B)"
   ]
  },
  {
   "cell_type": "code",
   "execution_count": 133,
   "metadata": {},
   "outputs": [
    {
     "data": {
      "text/plain": [
       "4"
      ]
     },
     "execution_count": 133,
     "metadata": {},
     "output_type": "execute_result"
    }
   ],
   "source": [
    "len(B[0])"
   ]
  },
  {
   "cell_type": "markdown",
   "metadata": {},
   "source": [
    "<b>Matrix multiplication</b> simple divide and conquer -> divide into 4 equal matrices, partition and multiply\n"
   ]
  },
  {
   "cell_type": "markdown",
   "metadata": {},
   "source": [
    "<b>Matrix multiplication</b> Strassen's Algorithm<br>\n",
    "\n",
    "1. Divide the input matrices A and B and output matrix C into n=2 n=2 submatrices,\n",
    "as in equation (4.9). This step takes ‚(thetha)1/ time by index calculation, just\n",
    "as in SQUARE-MATRIX-MULTIPLY-RECURSIVE. <br>\n",
    "2. Create 10 matrices S1; S2; : : : ; S10, each of which is n=2 n=2 and is the sum\n",
    "or difference of two matrices created in step 1. We can create all 10 matrices in\n",
    "‚.(Theta) n^2/ time.<br>\n",
    "3. Using the submatrices created in step 1 and the 10 matrices created in step 2,\n",
    "recursively compute seven matrix products P1;P2; : : : ;P7. Each matrix Pi is\n",
    "n=2 n=2.<br>\n",
    "4. Compute the desired submatrices C11;C12;C21;C22 of the result matrix C by\n",
    "adding and subtracting various combinations of the Pi matrices. We can compute\n",
    "all four submatrices in ‚.n2/ time.\n",
    "<br>"
   ]
  },
  {
   "cell_type": "code",
   "execution_count": 109,
   "metadata": {},
   "outputs": [],
   "source": [
    "a= [[1,1,1,1],[2,2,2,2],[3,3,3,3],[4,4,4,4]]\n",
    "b= [[5,5,5,5],[6,6,6,6],[7,7,7,7],[8,8,8,8]]\n",
    "\n",
    "\n",
    "def matrixAdd(a, b):\n",
    "    c = [[0 for col in range(len(a))]for row in range(len(a))]\n",
    "    for i in range(len(a)):\n",
    "        for j in range(len(a)):\n",
    "            c[i][j] = a[i][j]+b[i][j]\n",
    "    return c\n",
    "\n",
    "def matrixSub(a, b):\n",
    "    c = [[0 for col in range(len(a))]for row in range(len(a))]\n",
    "    for i in range(len(a)):\n",
    "        for j in range(len(a)):\n",
    "            c[i][j] = a[i][j]-b[i][j]\n",
    "    return c\n",
    "\n"
   ]
  },
  {
   "cell_type": "code",
   "execution_count": 129,
   "metadata": {},
   "outputs": [],
   "source": [
    "def strassenAlgo(a, b):\n",
    "    \n",
    "    n = len(a)\n",
    "    if n ==1:\n",
    "        z = [[0]]\n",
    "        z[0][0] = a[0][0] * b[0][0]\n",
    "        return z\n",
    "    else:\n",
    "        newSize = n//2\n",
    "        #matrix of new size\n",
    "        a11 = matrixZeros(newSize,newSize)\n",
    "        a12 = matrixZeros(newSize,newSize)\n",
    "        a21 = matrixZeros(newSize,newSize)\n",
    "        a22 = matrixZeros(newSize,newSize)\n",
    "\n",
    "        b11 = matrixZeros(newSize,newSize)\n",
    "        b12 = matrixZeros(newSize,newSize)\n",
    "        b21 = matrixZeros(newSize,newSize)\n",
    "        b22 = matrixZeros(newSize,newSize)\n",
    "\n",
    "\n",
    "        #splitting matrices into the sub matrix\n",
    "\n",
    "        for i in range(0, newSize):\n",
    "            for j in range(0, newSize):\n",
    "                a11[i][j] = a[i][j]  #top left\n",
    "                a12[i][j] = a[i][j + newSize]  # top right\n",
    "                a21[i][j] = a[i + newSize][j]  # bottom left\n",
    "                a22[i][j] = a[i + newSize][j + newSize]  # bottom right\n",
    "\n",
    "                b11[i][j] = b[i][j]  # top left\n",
    "                b12[i][j] = b[i][j + newSize]  # top right\n",
    "                b21[i][j] = b[i + newSize][j]  # bottom left\n",
    "                b22[i][j] = b[i + newSize][j + newSize]  # bottom right\n",
    "\n",
    "        #10 matrices to calculate product p\n",
    "        s1 = matrixSub(b12,b22)\n",
    "        s2 = matrixAdd(a11,a12)\n",
    "        s3 = matrixAdd(a21,a22)\n",
    "        s4 = matrixSub(b21,b11)\n",
    "        s5 = matrixAdd(a11,a22)\n",
    "        s6 = matrixAdd(b11,b22)\n",
    "        s7 = matrixSub(a12,a22)\n",
    "        s8 = matrixAdd(b21,b22)\n",
    "        s9 = matrixSub(a11,a21)\n",
    "        s10 = matrixAdd(b11,b12)\n",
    "\n",
    "        #p1 = a11*s1\n",
    "        p1 = strassenAlgo(a11,s1)\n",
    "        #p2 = s2*b22\n",
    "        p2 = strassenAlgo(s2,b22)\n",
    "        #p3 = s3*b11\n",
    "        p3 = strassenAlgo(s3,b11)\n",
    "        #p4 = a22*s4\n",
    "        p4 = strassenAlgo(a22,s4)\n",
    "        #p5 = s5*s6\n",
    "        p5 = strassenAlgo(s5,s6)\n",
    "        #p6 = s7*s8\n",
    "        p6 = strassenAlgo(s7,s8)\n",
    "        #p7 = s9*s10\n",
    "        p7 = strassenAlgo(s9,s10)\n",
    "\n",
    "        #calculate cells c12,c11,c21,c22\n",
    "        #c11 = p5+p4-p2+p6\n",
    "        c11 = matrixAdd(matrixSub(matrixAdd(p5,p4),p2),p6)\n",
    "        #c12 = p1+p2\n",
    "        c12 = matrixAdd(p1,p2)\n",
    "        #c21 = p3 +p4\n",
    "        c21 = matrixAdd(p3,p4)\n",
    "        #c22 = p5+p1-p3-p7\n",
    "        c22 = matrixSub(matrixSub(matrixAdd(p5,p1),p3),p7)\n",
    "\n",
    "        c = matrixZeros(n,n)\n",
    "        for i in range(0,newSize):\n",
    "            for j in range(0,newSize):\n",
    "                #fill top left\n",
    "                c[i][j]=c11[i][j]\n",
    "                #fill top right\n",
    "                c[i][j+newSize] = c12[i][j]\n",
    "                #fill bottom left\n",
    "                c[i+newSize][j] = c21[i][j]\n",
    "                #fill bottom right\n",
    "                c[i+newSize][j+newSize] = c22[i][j]\n",
    "    return c\n",
    "    "
   ]
  },
  {
   "cell_type": "code",
   "execution_count": 143,
   "metadata": {},
   "outputs": [
    {
     "data": {
      "text/plain": [
       "[[26, 26, 26, 26], [52, 52, 52, 52], [78, 78, 78, 78], [104, 104, 104, 104]]"
      ]
     },
     "execution_count": 143,
     "metadata": {},
     "output_type": "execute_result"
    }
   ],
   "source": [
    "strassenAlgo(a,b)"
   ]
  },
  {
   "cell_type": "code",
   "execution_count": 144,
   "metadata": {},
   "outputs": [
    {
     "name": "stdout",
     "output_type": "stream",
     "text": [
      "[[0, 0, 0, 0], [0, 0, 0, 0], [0, 0, 0, 0], [0, 0, 0, 0]]\n"
     ]
    },
    {
     "data": {
      "text/plain": [
       "[[26, 26, 26, 26], [52, 52, 52, 52], [78, 78, 78, 78], [104, 104, 104, 104]]"
      ]
     },
     "execution_count": 144,
     "metadata": {},
     "output_type": "execute_result"
    }
   ],
   "source": [
    "matrixMult(a,b)"
   ]
  },
  {
   "cell_type": "code",
   "execution_count": null,
   "metadata": {},
   "outputs": [],
   "source": []
  }
 ],
 "metadata": {
  "kernelspec": {
   "display_name": "Python 3",
   "language": "python",
   "name": "python3"
  },
  "language_info": {
   "codemirror_mode": {
    "name": "ipython",
    "version": 3
   },
   "file_extension": ".py",
   "mimetype": "text/x-python",
   "name": "python",
   "nbconvert_exporter": "python",
   "pygments_lexer": "ipython3",
   "version": "3.8.2"
  }
 },
 "nbformat": 4,
 "nbformat_minor": 2
}
