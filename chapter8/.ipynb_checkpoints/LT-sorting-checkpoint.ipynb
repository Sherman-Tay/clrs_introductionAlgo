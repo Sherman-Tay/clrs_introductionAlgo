{
 "cells": [
  {
   "cell_type": "markdown",
   "metadata": {},
   "source": [
    "<b>Sorting in Linear Time:</b><br>\n",
    "\n",
    "For any type of comparison sort, nlgn is the worst case. Merge and heapsort are therefore asymptotically optimal.<br>\n",
    "It suffices to determine the height of a decision tree in which each permutation appears as a reachable leaf. A tree of height h with l leaves corresponds to a comparison sort on n elements. As each of the $n!$ permutations of the input appears as some leaf, we have $n!\\leq l$. In a Binary tree of height h, it has no more than $2^h$ leaves. <br>\n",
    "$n! \\leq l\\leq 2^h$ <br>\n",
    "when we take logs, $h \\geq lg(n!) = \\Omega(nlgn)$ <br>\n",
    "\n",
    "Corollary: HeapSort and Merge sort are asymptotically optimal comparison sorts. as O(nlgn) upper bounds match $\\Omega$(nlgn) worst case \n",
    "\n",
    "We then explore 3 sorting algorithms not based on comparison, and therefore will not have the nlgn lower bound applied to them. They run on Linear time.<br>\n",
    "1. Radix Sort\n",
    "2. Counting Sort\n",
    "3. Bucket Sort"
   ]
  },
  {
   "cell_type": "markdown",
   "metadata": {},
   "source": []
  }
 ],
 "metadata": {
  "kernelspec": {
   "display_name": "Python 3",
   "language": "python",
   "name": "python3"
  },
  "language_info": {
   "codemirror_mode": {
    "name": "ipython",
    "version": 3
   },
   "file_extension": ".py",
   "mimetype": "text/x-python",
   "name": "python",
   "nbconvert_exporter": "python",
   "pygments_lexer": "ipython3",
   "version": "3.8.2"
  }
 },
 "nbformat": 4,
 "nbformat_minor": 4
}
