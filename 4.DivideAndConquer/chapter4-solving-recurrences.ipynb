{
 "cells": [
  {
   "cell_type": "markdown",
   "metadata": {},
   "source": [
    "There are 3 main methods to solving recurrences.<br>\n",
    "1. Substitution method<br>\n",
    "2. Recursion tree <br>\n",
    "3. Master method<br> \n",
    "\n",
    "this notebook is to talk about and understand better the 3 approaches and the relevant pitfalls"
   ]
  },
  {
   "cell_type": "markdown",
   "metadata": {},
   "source": [
    "<b>Substitution</b><br>\n",
    "This involves 2 steps\n",
    "1. Guessing the form of solution\n",
    "2. use mathematical induction to find constants and show the solution works\n",
    "\n",
    "<br> \n",
    "- we have to be able to guess the form of the solution first. this comes with experience. Similar recursions have similar answers. <br>\n",
    "- we can also do this by setting looser bounds initially and tighten them as they converge<br>\n",
    "- note that induction still fails at times to prove detailed bounds<br>\n",
    "- quick tip: a problem can be simplified by renaming the variables.<br>\n",
    "example:<br>\n",
    "T(n) = 2T(sqrt(n))+lg(n)<br>\n",
    "sub m = lgn<br>\n",
    "T(m) = 2T(2^(m/2)) + m<br>\n",
    "rename S(m) = T(2^m)<br>\n",
    "S(m) = 2S(m/2) + m [same form as before (4.19)]<br>\n",
    "S(m) = O(mlgm)<br>\n",
    "T(n) = T(2^m) = S(m) = O(mlgm) = O(lgn.lg(lgn))"
   ]
  },
  {
   "attachments": {},
   "cell_type": "markdown",
   "metadata": {},
   "source": [
    "<b>Recursion Trees</b><br>\n",
    "A straightforward way to devise a good guess. <br>\n",
    "In a recursion tree, each node represents the cost of a single subproblem.<br>\n",
    "gives a good guess which can be proven via substitution. \n",
    "\n",
    "<img src= recursion_tree.png>\n",
    "<img src= explanation_1.png>\n",
    "<br> \n"
   ]
  },
  {
   "attachments": {},
   "cell_type": "markdown",
   "metadata": {},
   "source": [
    "<b>Master Method</b><br>\n",
    "Form : T(n) = aT(n/b) + f(n)<br>\n",
    "a>=1 and b >1\n",
    "<br> \n",
    "the running time of an algorithm that divides a problem of size n into a subproblems, each of size n/b[a and b are positive constants]<br> \n",
    "f(n) encompasses the cost of dividing the problem and combining the result of the subproblems.\n",
    "\n",
    "<img src= masterTheorem.png><br>\n",
    "\n",
    "It outlines 3 cases when we compare the function f(n) with n^(logb(a)). The larger of the 2 functions determines the recurrence.<br>\n",
    "Case 1: n^(logb(a)) is larger -> that is solution.<br>\n",
    "Case 2: function same size -> multiply by log factor. (f(n)lgn)<br>\n",
    "Case 3: f(n) is larger so that is the solution<br>\n",
    "\n",
    "proof: https://www.youtube.com/watch?v=I7JCtSwVeXs"
   ]
  }
 ],
 "metadata": {
  "kernelspec": {
   "display_name": "Python 3",
   "language": "python",
   "name": "python3"
  },
  "language_info": {
   "codemirror_mode": {
    "name": "ipython",
    "version": 3
   },
   "file_extension": ".py",
   "mimetype": "text/x-python",
   "name": "python",
   "nbconvert_exporter": "python",
   "pygments_lexer": "ipython3",
   "version": "3.8.2"
  }
 },
 "nbformat": 4,
 "nbformat_minor": 2
}
