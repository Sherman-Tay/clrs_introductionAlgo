{
 "cells": [
  {
   "cell_type": "markdown",
   "metadata": {},
   "source": [
    "Refresher on worst case time complexity <br>\n",
    "Merge sort - nlgn <br>\n",
    "insertion sort - $n^2$ <br>\n",
    "when looking at input sizes large enough to only order of growth running time important, we study the asymptotic efficiency of algorithms.running time increase wrt input size in the limit.<br>\n",
    "\n",
    "There are several ways to express these notations. which will be gone through this notebook"
   ]
  },
  {
   "cell_type": "markdown",
   "metadata": {},
   "source": [
    "$\\Omega$ is an upper bound(worst case). $\\Theta$ is a tight bound. $\\Omega$ is the lower bound (best case) <br>\n",
    "$\\theta$ is an upper bound that is not asypmtotically tight <br>\n",
    "$\\omega$ is a lower bound that is not asypmtotically tight\n"
   ]
  },
  {
   "cell_type": "markdown",
   "metadata": {},
   "source": [
    "Theorem 3.1 <br>\n",
    "For any two functions f (n) and g(n), we have f (n) = $\\Omega$(g(n)) if and only if<br>\n",
    "f (n) = O(g(n)) and f (n) = $\\Omega$(g(n))."
   ]
  },
  {
   "cell_type": "markdown",
   "metadata": {},
   "source": [
    "O is giving only upper asymptotic bound, while $\\Theta$ is also giving a lower bound.<br>\n",
    "\n",
    "Everything that is $\\theta$(f(n)) is also O(f(n)), but not the other way around.<br>\n",
    "T(n) is said to be $\\theta$(f(n)), if it is both O(f(n)) and $\\Omega$(f(n))<br>\n",
    "\n",
    "For this reason $\\Theta$ is more informative than big-O notation, so if we can say something is $\\Theta$, it's usually preferred. However, it is harder to prove something is $\\Theta$, than to prove it is big-O.<br>\n",
    "\n",
    "For example, merge sort is both O(n*log(n)) and $\\Theta$(n*log(n)), but it is also O($n^2$), since n2 is asymptotically \"bigger\" than it. However, it is NOT $\\Theta$($n^2$), Since the algorithm is NOT $\\Omega$($n^2$).<br>"
   ]
  }
 ],
 "metadata": {
  "kernelspec": {
   "display_name": "Python 3",
   "language": "python",
   "name": "python3"
  },
  "language_info": {
   "codemirror_mode": {
    "name": "ipython",
    "version": 3
   },
   "file_extension": ".py",
   "mimetype": "text/x-python",
   "name": "python",
   "nbconvert_exporter": "python",
   "pygments_lexer": "ipython3",
   "version": "3.8.2"
  }
 },
 "nbformat": 4,
 "nbformat_minor": 2
}
