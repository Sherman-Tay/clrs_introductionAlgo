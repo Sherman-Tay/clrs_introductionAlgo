{
 "cells": [
  {
   "cell_type": "raw",
   "metadata": {},
   "source": [
    "This is the Coding practice for Clrs chapter 2"
   ]
  },
  {
   "cell_type": "code",
   "execution_count": 10,
   "metadata": {},
   "outputs": [
    {
     "name": "stdout",
     "output_type": "stream",
     "text": [
      "hello world\n"
     ]
    }
   ],
   "source": [
    "msg = \"hello world\"\n",
    "print(msg)"
   ]
  },
  {
   "cell_type": "markdown",
   "metadata": {},
   "source": [
    "Instertion Sort"
   ]
  },
  {
   "cell_type": "code",
   "execution_count": 11,
   "metadata": {},
   "outputs": [],
   "source": [
    "import matplotlib as plt\n",
    "import numpy as np\n",
    "import timeit\n",
    "\n",
    "def printList(arr): \n",
    "\tfor i in range(len(arr)):\t\t \n",
    "\t\tprint(arr[i], end =\" \") \n",
    "\tprint() "
   ]
  },
  {
   "cell_type": "code",
   "execution_count": 12,
   "metadata": {},
   "outputs": [],
   "source": [
    "def insertion_sort(array):\n",
    "    #Start from 1 since first element is trivially sorted\n",
    "    for index in range(1,len(array)):\n",
    "        currValue = array[index]\n",
    "        currPosition = index\n",
    "        \n",
    "        #as long as we have not reached index 1, and there is an array element\n",
    "        #that is larger than the one we are considering, move element to right.\n",
    "        #insertion sort is similar to how a person sorts cards, taking into\n",
    "        #consideration that the pile he is adding to is a sorted list (non inc.)\n",
    "        \n",
    "        while currPosition > 0 and array[currPosition -1]>currValue:\n",
    "            array[currPosition] = array[currPosition -1]\n",
    "            currPosition = currPosition -1\n",
    "            \n",
    "        array[currPosition]=currValue\n",
    "\n",
    "        \n",
    "#algorithm is loop invariant as\n",
    "#initialized an array with single element will not pass through for loop;\n",
    "#trivially sorted.\n",
    "#current position is always reset after each of the for loop, making the \n",
    "#while loop invariant\n",
    "#code terminates when we pass through the length of the array.\n",
    "        \n",
    "def insertion_sort_dec(array):\n",
    "    #Start from 1 since first element is trivially sorted\n",
    "    for index in range(1,len(array)):\n",
    "        currValue = array[index]\n",
    "        currPosition = index\n",
    "        \n",
    "        #as long as we have not reached index 1, and there is an array element\n",
    "        #that is larger than the one we are considering, move element to right.\n",
    "        #insertion sort is similar to how a person sorts cards, taking into\n",
    "        #consideration that the pile he is adding to is a sorted list (non inc.)\n",
    "        \n",
    "        while currPosition > 0 and array[currPosition -1]<currValue:\n",
    "            array[currPosition] = array[currPosition -1]\n",
    "            currPosition = currPosition -1\n",
    "            \n",
    "        array[currPosition]=currValue"
   ]
  },
  {
   "cell_type": "code",
   "execution_count": 13,
   "metadata": {},
   "outputs": [],
   "source": [
    "array = [2,5,7,11,124,62,1,72,86,565,4,22,1,5,8]\n",
    "s= array.copy()\n",
    "s2 =array.copy()\n",
    "\n",
    "\n",
    "insertion_sort(s)\n",
    "insertion_sort_dec(s2)\n",
    "\n"
   ]
  },
  {
   "cell_type": "code",
   "execution_count": 14,
   "metadata": {},
   "outputs": [
    {
     "name": "stdout",
     "output_type": "stream",
     "text": [
      "2 5 7 11 124 62 1 72 86 565 4 22 1 5 8 \n",
      "1 1 2 4 5 5 7 8 11 22 62 72 86 124 565 \n",
      "565 124 86 72 62 22 11 8 7 5 5 4 2 1 1 \n"
     ]
    }
   ],
   "source": [
    "printList(array)\n",
    "printList(s)\n",
    "printList(s2)"
   ]
  },
  {
   "cell_type": "markdown",
   "metadata": {},
   "source": [
    "Insertion sort has a worst-case running time of theth n^2.\n",
    "It uses an incremental approach\n",
    "having sorted subarray array[1.. j-1] we insert array[j] yielding a sorted array of array[1..j]"
   ]
  },
  {
   "cell_type": "markdown",
   "metadata": {},
   "source": [
    "Divide and conquer approach break downs problems into subproblems similar to the original problem but msaller size, solving them recursively and combining them. Divide ->conquer->combine.\n",
    "Merge sort is an example\n",
    "\n",
    "Merge sort divides n-elements into two (n/2), sorts the two recursively, combines them to produce sorted answer.\n",
    "\n",
    "Recursion bottoms out when sequence to be sorted is of length 1 (no need to sort).\n",
    "\n",
    "Merge (A,p,q,r) p<=q r\n",
    "A[p..q] nd A[q+1..r] = A[p,r] (theta n complx) \n",
    "                "
   ]
  },
  {
   "cell_type": "code",
   "execution_count": 15,
   "metadata": {},
   "outputs": [
    {
     "name": "stdout",
     "output_type": "stream",
     "text": [
      "Given array is\n",
      " 12 122 144 13 5 6 7 \n",
      "Sorted array is\n",
      "5 6 7 12 13 122 144 \n"
     ]
    }
   ],
   "source": [
    "def mergeSort(array):\n",
    "    if len(array)>1:\n",
    "        mid = len(array)//2\n",
    "        L = array[:mid]\n",
    "        R = array[mid:]\n",
    "        \n",
    "        #recursively sort first and second half\n",
    "        mergeSort(L)\n",
    "        mergeSort(R)\n",
    "        \n",
    "        #initialize i j k\n",
    "        i = j = k = 0 \n",
    "        \n",
    "        #copy data into temp arrays L[] and R[] - merging\n",
    "        while i< len(L)and j< len(R):\n",
    "            if L[i] < R[j]:\n",
    "                array[k] = L[i]\n",
    "                i+=1\n",
    "            else:\n",
    "                array[k] = R[j]\n",
    "                j+=1\n",
    "            k+=1\n",
    "            \n",
    "        #check if any left behind\n",
    "        while i < len(L):\n",
    "            array[k]= L[i]\n",
    "            i+=1\n",
    "            k+=1\n",
    "        while j < len(R):\n",
    "            array[k] = R[j]\n",
    "            j+=1\n",
    "            k+=1\n",
    "\n",
    "if __name__ == '__main__':\n",
    "    array01 = [12,122,144,13,5,6,7]\n",
    "    print(\"Given array is\", end =\"\\n \")\n",
    "    printList(array01)\n",
    "    mergeSort(array01)\n",
    "    print(\"Sorted array is\", end= \"\\n\")\n",
    "    printList(array01)\n",
    "        "
   ]
  },
  {
   "cell_type": "markdown",
   "metadata": {},
   "source": [
    "Analysis of Mergesort.\n",
    "as we are dividing them by 2, it will still work if the array is non-even, but the recurrence based analysis is simplified if we assume the original problem size is of power 2.\n",
    "Divide step: computes middle = constant time \n",
    "Conquer step: recursively solve 2 subproblems of size (n/w) = 2T(n/2) to running time\n",
    "Combine step: Merge on an n-element array takes theta n time.\n",
    "T(n) = nlgn > n^2\n",
    "\n",
    "<img src = \"C:\\Users\\sherm\\Desktop\\coding snippeets\\mergesort_theta.PNG\">"
   ]
  },
  {
   "cell_type": "markdown",
   "metadata": {},
   "source": [
    "Binary Search\n",
    "finding position of x in an array\n",
    "\n",
    "Compare x with the middle element.\n",
    "If x matches with the middle element, we return the mid index.\n",
    "Else if x is greater than the mid element, then x can only lie in the right (greater) half subarray after the mid element. Then we apply the algorithm again for the right half.\n",
    "Else if x is smaller, the target x must lie in the left (lower) half. So we apply the algorithm for the left half."
   ]
  },
  {
   "cell_type": "code",
   "execution_count": 16,
   "metadata": {},
   "outputs": [],
   "source": [
    "def binary_search(array,low,high,x):\n",
    "    if high >= low: #ensure base case\n",
    "        mid = (high+low)//2\n",
    "        if array[mid] == x:\n",
    "            return mid\n",
    "        elif array[mid] > x: #lower half\n",
    "            return binary_search(array,low,mid,x)\n",
    "        elif array[mid] < x: #upper half\n",
    "            return binary_search(array,mid,high,x)\n",
    "        else: return -1"
   ]
  },
  {
   "cell_type": "code",
   "execution_count": 17,
   "metadata": {},
   "outputs": [
    {
     "data": {
      "text/plain": [
       "7"
      ]
     },
     "execution_count": 17,
     "metadata": {},
     "output_type": "execute_result"
    }
   ],
   "source": [
    "arrayx = [1,2,4,5,7,9,5,8,5]\n",
    "binary_search(arrayx,0,len(arrayx),8)"
   ]
  },
  {
   "cell_type": "markdown",
   "metadata": {},
   "source": [
    "Chapter 2 Problem Set\n",
    "2-1 Insertion sort on small arrays in merge sort\n",
    "Although merge sort runs in \u000b",
    "(n lg n) worst-case time and insertion sort runs\n",
    "in \u000b",
    "(n2) worst-case time, the constant factors in insertion sort make it faster for\n",
    "small n. Thus, it makes sense to use insertion sort within merge sort when subproblems\n",
    "become sufficiently small. Consider a modification to merge sort in which\n",
    "n/k sublists of length k are sorted using insertion sort and then merged using the\n",
    "standard merging mechanism, where k is a value to be determined.\n",
    "a. Show that the n/k sublists, each of length k, can be sorted by insertion sort in\n",
    "\u000b",
    "(nk) worst-case time.\n",
    "38 Chapter 2 Getting Started\n",
    "b. Show that the sublists can be merged in \u000b",
    "(n lg(n/k)) worst-case time.\n",
    "c. Given that the modified algorithm runs in \u000b",
    "(nk + n lg(n/k)) worst-case time,\n",
    "what is the largest asymptotic (\u000b",
    "-notation) value of k as a function of n for\n",
    "which the modified algorithm has the same asymptotic running time as standard\n",
    "merge sort?\n",
    "d. How should k be chosen in practice?\n",
    "\n",
    "2-2 Correctness of bubblesort\n",
    "Bubblesort is a popular sorting algorithm. It works by repeatedly swapping adjacent\n",
    "elements that are out of order.\n",
    "BUBBLESORT(A)\n",
    "1 for i ← 1 to length[A]\n",
    "2 do for j ← length[A] downto i + 1\n",
    "3 do if A[ j ] < A[ j − 1]\n",
    "4 then exchange A[ j ] ↔ A[ j − 1]\n",
    "a. Let A\u0005 denote the output of BUBBLESORT(A). To prove that BUBBLESORT is\n",
    "correct, we need to prove that it terminates and that\n",
    "A\u0005[1] ≤ A\u0005[2] ≤ · · · ≤ A\u0005[n] , (2.3)\n",
    "where n = length[A]. What else must be proved to show that BUBBLESORT\n",
    "actually sorts?\n",
    "The next two parts will prove inequality (2.3).\n",
    "b. State precisely a loop invariant for the for loop in lines 2–4, and prove that this\n",
    "loop invariant holds. Your proof should use the structure of the loop invariant\n",
    "proof presented in this chapter.\n",
    "c. Using the termination condition of the loop invariant proved in part (b), state\n",
    "a loop invariant for the for loop in lines 1–4 that will allow you to prove inequality\n",
    "(2.3). Your proof should use the structure of the loop invariant proof\n",
    "presented in this chapter.\n",
    "d. What is the worst-case running time of bubblesort? How does it compare to the\n",
    "running time of insertion sort?\n",
    "\n",
    "2-3 Correctness of Horner’s rule\n",
    "The following code fragment implements Horner’s rule for evaluating a polynomial\n",
    "P(x) =\n",
    "\u0002n\n",
    "k=0\n",
    "ak xk\n",
    "= a0 + x(a1 + x(a2 +· · · + x(an−1 + xan) · · ·)) ,\n",
    "given the coefficients a0, a1, . . . , an and a value for x:\n",
    "1 y ← 0\n",
    "2 i ← n\n",
    "3 while i ≥ 0\n",
    "4 do y ← ai + x · y\n",
    "5 i ←i − 1\n",
    "a. What is the asymptotic running time of this code fragment for Horner’s rule?\n",
    "b. Write pseudocode to implement the naive polynomial-evaluation algorithm that\n",
    "computes each term of the polynomial from scratch. What is the running time\n",
    "of this algorithm? How does it compare to Horner’s rule?\n",
    "c. Prove that the following is a loop invariant for the while loop in lines 3 –5.\n",
    "At the start of each iteration of the while loop of lines 3–5,\n",
    "y =\n",
    "n−\u0002(i+1)\n",
    "k=0\n",
    "ak+i+1xk .\n",
    "Interpret a summation with no terms as equaling 0. Your proof should follow\n",
    "the structure of the loop invariant proof presented in this chapter and should\n",
    "show that, at termination, y = \u0001n\n",
    "k=0 akxk .\n",
    "d. Conclude by arguing that the given code fragment correctly evaluates a polynomial\n",
    "characterized by the coefficients a0, a1, . . . , an.\n",
    "\n",
    "2-4 Inversions\n",
    "Let A[1 . . n] be an array of n distinct numbers. If i < j and A[i ] > A[ j ], then the\n",
    "pair (i, j ) is called an inversion of A.\n",
    "a. List the five inversions of the array \u00032, 3, 8, 6, 1\u0004.\n",
    "b. What array with elements from the set {1, 2, . . . , n} has the most inversions?\n",
    "How many does it have?\n",
    "40 Chapter 2 Getting Started\n",
    "c. What is the relationship between the running time of insertion sort and the\n",
    "number of inversions in the input array? Justify your answer.\n",
    "d. Give an algorithm that determines the number of inversions in any permutation on n elements in \u000b",
    "(n lg n) worst-case time. (Hint: Modify merge sort.)"
   ]
  },
  {
   "cell_type": "markdown",
   "metadata": {},
   "source": [
    "Q2.1 considers utilizing insertion sort within the mergesort algorithm for small n.\n",
    "\n",
    "insertion sort has complexity theta(k^2) for len k. for n/k of them, complexity is (n/k*k^2) = theta(nk)\n"
   ]
  },
  {
   "cell_type": "code",
   "execution_count": null,
   "metadata": {},
   "outputs": [],
   "source": []
  }
 ],
 "metadata": {
  "kernelspec": {
   "display_name": "Python 3",
   "language": "python",
   "name": "python3"
  },
  "language_info": {
   "codemirror_mode": {
    "name": "ipython",
    "version": 3
   },
   "file_extension": ".py",
   "mimetype": "text/x-python",
   "name": "python",
   "nbconvert_exporter": "python",
   "pygments_lexer": "ipython3",
   "version": "3.8.2"
  }
 },
 "nbformat": 4,
 "nbformat_minor": 2
}
