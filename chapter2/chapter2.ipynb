{
 "cells": [
  {
   "cell_type": "markdown",
   "metadata": {},
   "source": [
    "This is the Coding practice for Clrs chapter 2"
   ]
  },
  {
   "cell_type": "code",
   "execution_count": 1,
   "metadata": {},
   "outputs": [
    {
     "name": "stdout",
     "output_type": "stream",
     "text": [
      "hello world\n"
     ]
    }
   ],
   "source": [
    "msg = \"hello world\"\n",
    "print(msg)"
   ]
  },
  {
   "cell_type": "markdown",
   "metadata": {},
   "source": [
    "Instertion Sort"
   ]
  },
  {
   "cell_type": "code",
   "execution_count": 6,
   "metadata": {},
   "outputs": [],
   "source": [
    "import matplotlib as plt\n",
    "import numpy as np\n",
    "import timeit"
   ]
  },
  {
   "cell_type": "code",
   "execution_count": 32,
   "metadata": {},
   "outputs": [],
   "source": [
    "def insertion_sort(array):\n",
    "    #Start from 1 since first element is trivially sorted\n",
    "    for index in range(1,len(array)):\n",
    "        currValue = array[index]\n",
    "        currPosition = index\n",
    "        \n",
    "        #as long as we have not reached index 1, and there is an array element\n",
    "        #that is larger than the one we are considering, move element to right.\n",
    "        #insertion sort is similar to how a person sorts cards, taking into\n",
    "        #consideration that the pile he is adding to is a sorted list (non inc.)\n",
    "        \n",
    "        while currPosition > 0 and array[currPosition -1]>currValue:\n",
    "            array[currPosition] = array[currPosition -1]\n",
    "            currPosition = currPosition -1\n",
    "            \n",
    "        array[currPosition]=currValue\n",
    "\n",
    "        \n",
    "#algorithm is loop invariant as\n",
    "#initialized an array with single element will not pass through for loop;\n",
    "#trivially sorted.\n",
    "#current position is always reset after each of the for loop, making the \n",
    "#while loop invariant\n",
    "#code terminates when we pass through the length of the array.\n",
    "        \n",
    "def insertion_sort_dec(array):\n",
    "    #Start from 1 since first element is trivially sorted\n",
    "    for index in range(1,len(array)):\n",
    "        currValue = array[index]\n",
    "        currPosition = index\n",
    "        \n",
    "        #as long as we have not reached index 1, and there is an array element\n",
    "        #that is larger than the one we are considering, move element to right.\n",
    "        #insertion sort is similar to how a person sorts cards, taking into\n",
    "        #consideration that the pile he is adding to is a sorted list (non inc.)\n",
    "        \n",
    "        while currPosition > 0 and array[currPosition -1]<currValue:\n",
    "            array[currPosition] = array[currPosition -1]\n",
    "            currPosition = currPosition -1\n",
    "            \n",
    "        array[currPosition]=currValue"
   ]
  },
  {
   "cell_type": "code",
   "execution_count": 35,
   "metadata": {},
   "outputs": [],
   "source": [
    "array = [2,5,7,11,124,62,1,72,86,565,4,22,1,5,8]\n",
    "s= array.copy()\n",
    "s2 =array.copy()\n",
    "\n",
    "\n",
    "insertion_sort(s)\n",
    "insertion_sort_dec(s2)\n",
    "\n"
   ]
  },
  {
   "cell_type": "code",
   "execution_count": 36,
   "metadata": {},
   "outputs": [
    {
     "name": "stdout",
     "output_type": "stream",
     "text": [
      "[2, 5, 7, 11, 124, 62, 1, 72, 86, 565, 4, 22, 1, 5, 8]\n",
      "sorted array[1, 1, 2, 4, 5, 5, 7, 8, 11, 22, 62, 72, 86, 124, 565]\n",
      "dec sorted array[565, 124, 86, 72, 62, 22, 11, 8, 7, 5, 5, 4, 2, 1, 1]\n"
     ]
    }
   ],
   "source": [
    "print(array)\n",
    "print(\"sorted array\"+str(s))\n",
    "print(\"dec sorted array\"+str(s2))"
   ]
  },
  {
   "cell_type": "markdown",
   "metadata": {},
   "source": [
    "Insertion sort has a worst-case running time of theth n^2.\n",
    "It uses an incremental approach\n",
    "having sorted subarray array[1.. j-1] we insert array[j] yielding a sorted array of array[1..j]"
   ]
  },
  {
   "cell_type": "markdown",
   "metadata": {},
   "source": [
    "Divide and conquer approach break downs problems into subproblems similar to the original problem but msaller size, solving them recursively and combining them. Divide ->conquer->combine.\n",
    "Merge sort is an example\n",
    "\n",
    "Merge sort divides n-elements into two (n/2), sorts the two recursively, combines them to produce sorted answer.\n",
    "\n",
    "Recursion bottoms out when sequence to be sorted is of length 1 (no need to sort).\n",
    "\n",
    "Merge (A,p,q,r) p<=q r\n",
    "A[p..q] nd A[q+1..r] = A[p,r] (theta n complx) \n",
    "                "
   ]
  },
  {
   "cell_type": "code",
   "execution_count": 37,
   "metadata": {},
   "outputs": [
    {
     "name": "stdout",
     "output_type": "stream",
     "text": [
      "Given array is\n",
      "12 11 13 5 6 7 \n",
      "Sorted array is: \n",
      "5 6 7 11 12 13 \n"
     ]
    }
   ],
   "source": [
    "# Python program for implementation of MergeSort \n",
    "def mergeSort(arr): \n",
    "\tif len(arr) >1: \n",
    "\t\tmid = len(arr)//2 # Finding the mid of the array \n",
    "\t\tL = arr[:mid] # Dividing the array elements \n",
    "\t\tR = arr[mid:] # into 2 halves \n",
    "\n",
    "\t\tmergeSort(L) # Sorting the first half \n",
    "\t\tmergeSort(R) # Sorting the second half \n",
    "\n",
    "\t\ti = j = k = 0\n",
    "\t\t\n",
    "\t\t# Copy data to temp arrays L[] and R[] \n",
    "\t\twhile i < len(L) and j < len(R): \n",
    "\t\t\tif L[i] < R[j]: \n",
    "\t\t\t\tarr[k] = L[i] \n",
    "\t\t\t\ti+= 1\n",
    "\t\t\telse: \n",
    "\t\t\t\tarr[k] = R[j] \n",
    "\t\t\t\tj+= 1\n",
    "\t\t\tk+= 1\n",
    "\t\t\n",
    "\t\t# Checking if any element was left \n",
    "\t\twhile i < len(L): \n",
    "\t\t\tarr[k] = L[i] \n",
    "\t\t\ti+= 1\n",
    "\t\t\tk+= 1\n",
    "\t\t\n",
    "\t\twhile j < len(R): \n",
    "\t\t\tarr[k] = R[j] \n",
    "\t\t\tj+= 1\n",
    "\t\t\tk+= 1\n",
    "\n",
    "# Code to print the list \n",
    "def printList(arr): \n",
    "\tfor i in range(len(arr)):\t\t \n",
    "\t\tprint(arr[i], end =\" \") \n",
    "\tprint() \n",
    "\n",
    "# driver code to test the above code \n",
    "if __name__ == '__main__': \n",
    "\tarr = [12, 11, 13, 5, 6, 7] \n",
    "\tprint (\"Given array is\", end =\"\\n\") \n",
    "\tprintList(arr) \n",
    "\tmergeSort(arr) \n",
    "\tprint(\"Sorted array is: \", end =\"\\n\") \n",
    "\tprintList(arr) \n",
    "\n",
    "# This code is contributed by Mayank Khanna \n"
   ]
  },
  {
   "cell_type": "code",
   "execution_count": null,
   "metadata": {},
   "outputs": [],
   "source": []
  }
 ],
 "metadata": {
  "kernelspec": {
   "display_name": "Python 3",
   "language": "python",
   "name": "python3"
  },
  "language_info": {
   "codemirror_mode": {
    "name": "ipython",
    "version": 3
   },
   "file_extension": ".py",
   "mimetype": "text/x-python",
   "name": "python",
   "nbconvert_exporter": "python",
   "pygments_lexer": "ipython3",
   "version": "3.8.2"
  }
 },
 "nbformat": 4,
 "nbformat_minor": 2
}
