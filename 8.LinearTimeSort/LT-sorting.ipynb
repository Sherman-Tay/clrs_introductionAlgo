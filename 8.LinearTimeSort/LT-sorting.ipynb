{
 "cells": [
  {
   "cell_type": "markdown",
   "metadata": {},
   "source": [
    "<b>Sorting in Linear Time:</b><br>\n",
    "\n",
    "For any type of comparison sort, nlgn is the worst case. Merge and heapsort are therefore asymptotically optimal.<br>\n",
    "It suffices to determine the height of a decision tree in which each permutation appears as a reachable leaf. A tree of height h with l leaves corresponds to a comparison sort on n elements. As each of the $n!$ permutations of the input appears as some leaf, we have $n!\\leq l$. In a Binary tree of height h, it has no more than $2^h$ leaves. <br>\n",
    "$n! \\leq l\\leq 2^h$ <br>\n",
    "when we take logs, $h \\geq lg(n!) = \\Omega(nlgn)$ <br>\n",
    "\n",
    "Corollary: HeapSort and Merge sort are asymptotically optimal comparison sorts. as O(nlgn) upper bounds match $\\Omega$(nlgn) worst case \n",
    "\n",
    "We then explore 3 sorting algorithms not based on comparison, and therefore will not have the nlgn lower bound applied to them. They run on Linear time.<br>\n",
    "1. Radix Sort\n",
    "2. Counting Sort\n",
    "3. Bucket Sort"
   ]
  },
  {
   "cell_type": "markdown",
   "metadata": {},
   "source": [
    "<b>Counting Sort:</b><br> \n",
    "Assumes each element is in range 0 to k. <br>\n",
    "For each input element x, the number of elements less than x. Therefore knowing the exact position x should be. Eg. if there are 18 numbers less than x, x is 19. <br>\n",
    "\n",
    "We require input array A[], array holding sorted output B[] and temp array C[]<br>\n",
    "First for loop takes $\\theta(k)$ time, 2nd for loop takes $\\theta(n)$, the 3rd for loop takes $\\theta (k)$ and the last loop takes $\\theta(n)$<br>\n",
    "In practice, we usually use counting sort when we have $k =O(n)$, in\n",
    "which case the running time is $\\Theta(n)$\n",
    "\n",
    "- counting sort is stable\n",
    "- this means that it does not matter the order of the input. elements side by side will break ties and follow a first in first out"
   ]
  },
  {
   "cell_type": "code",
   "execution_count": 29,
   "metadata": {},
   "outputs": [],
   "source": [
    "def countSort(arr):\n",
    "    max_element = int(max(arr))\n",
    "    min_element = int(min(arr))\n",
    "    element_span = max_element - min_element +1\n",
    "    \n",
    "    #Output Array B\n",
    "    B = [0 for i in range(len(arr))]\n",
    "    #Count array C to store individual position counts\n",
    "    C = [0 for i in range(element_span) ]\n",
    "    #store count of each array element \n",
    "    #This is done by taking the difference between the current value and minimum value\n",
    "    for i in range(0,len(arr)):\n",
    "        C[arr[i]-min_element]+=1\n",
    "    #Modify count array to indicate position of previous object in output.\n",
    "    #this is such that output will result in count decreasing by 1\n",
    "    for i in range(1,len(C)):\n",
    "        C[i]+= C[i-1] #add prev\n",
    "    #count down across span of C, whereby its value(count of) will update relative position in B\n",
    "    for i in range(len(arr)-1,-1,-1):\n",
    "        B[C[arr[i]-min_element]-1] = arr[i]\n",
    "        C[arr[i]-min_element]-=1\n",
    "    for i in range(0,len(arr)):\n",
    "        arr[i]=B[i]\n",
    "    return arr\n",
    "        "
   ]
  },
  {
   "cell_type": "code",
   "execution_count": 30,
   "metadata": {},
   "outputs": [
    {
     "name": "stdout",
     "output_type": "stream",
     "text": [
      "Sorted character array is [-10, -5, -3, -1, 0, 5, 8, 10]\n"
     ]
    }
   ],
   "source": [
    "if __name__ =='__main__':\n",
    "    arr = [-5, -10, 0, -3, 8, 5, -1, 10] \n",
    "    ans = countSort(arr) \n",
    "    print(\"Sorted character array is \" + str(ans)) "
   ]
  },
  {
   "cell_type": "code",
   "execution_count": 12,
   "metadata": {},
   "outputs": [
    {
     "name": "stdout",
     "output_type": "stream",
     "text": [
      "[1, 0, 0, 0, 0]\n",
      "[1, 1, 0, 0, 0]\n",
      "[1, 1, 1, 0, 0]\n",
      "[1, 1, 1, 1, 0]\n",
      "[1, 1, 1, 1, 1]\n",
      "[2, 1, 1, 1, 1]\n",
      "[2, 2, 1, 1, 1]\n",
      "[2, 2, 2, 1, 1]\n",
      "[2, 2, 2, 2, 1]\n",
      "[2, 3, 2, 2, 1]\n",
      "[2, 3, 2, 3, 1]\n",
      "[2, 3, 2, 3, 2]\n",
      "[2, 3, 2, 4, 2]\n",
      "[2, 5, 2, 4, 2]\n",
      "[2, 5, 7, 4, 2]\n",
      "[2, 5, 7, 11, 2]\n",
      "[2, 5, 7, 11, 13]\n"
     ]
    }
   ],
   "source": [
    "#To visualize the counting process\n",
    "arr = [1,2,3,4,5,1,2,3,4,2,4,5,4]\n",
    "C = [0 for i in range(0,5)]\n",
    "for i in range(0,len(arr)):\n",
    "    C[arr[i]-1]+=1\n",
    "    print(C)\n",
    "    \n",
    "for i in range(1,len(C)):\n",
    "    C[i]+=C[i-1]\n",
    "    print(C)"
   ]
  },
  {
   "cell_type": "markdown",
   "metadata": {},
   "source": [
    "<b>Radix Sort:</b><br>\n",
    "Radix sort solves sorting by sorting the least significant digit first, then the second least significant up intil all have been sorted. In order for it to work correctly, digit sorts must be stable.<br>\n",
    "\n",
    "If Counting sort ranges from 1 to $n^2$, it will have a worst case of $O(n^2)$. Radix will use count sort as subroutine and start from least significant digit\n",
    "\n",
    "- quicksort often uses hardware caches more effectively than radix sort\n",
    "- if use counting sort as stable sort, will not sort in place.(takes up mem)\n",
    "- A sorting algorithm is said to be stable if two objects with equal keys appear in the same order in sorted output as they appear in the input unsorted array. Some sorting algorithms are stable by nature like Insertion sort, Merge Sort, Bubble Sort. [quicksort and heapsort are unstable]\n",
    "- radix sort takes $O(d*(n+b))$\n",
    "\n",
    "<br>\n",
    "Qn: Why does Radix Sort need to be stable<br>\n",
    "Ans: <I> Integers that are equal in some digit aren't always equal (e.g., 12 and 13). Let's sort [13, 12] using a LSD-first radix sort (base 10). But we'll use an unstable sort for each digit.<br>\n",
    "\n",
    "First we sort by the 1's place, so the array becomes [12, 13].\n",
    "<br>\n",
    "Now we sort by the 10's places, but 12 and 13 have the same digit. Since the sort is unstable, the resulting array could be [12, 13] or [13, 12]. We don't know.\n",
    "<br>\n",
    "If the sort were stable we would be guaranteed to get a correctly sorted array.</I>"
   ]
  },
  {
   "cell_type": "code",
   "execution_count": 41,
   "metadata": {},
   "outputs": [],
   "source": [
    "def countSort1(arr, digit):\n",
    "    #here we only need to count up to 10.\n",
    "    \n",
    "    #Output Array B\n",
    "    B = [0 for i in range(len(arr))]\n",
    "    \n",
    "    #Count array C to store individual position counts\n",
    "    C = [0 for i in range(10) ]\n",
    "    \n",
    "    #store count of each array element \n",
    "    #dont need to minus min because non negative.\n",
    "    for i in range(0,len(arr)):\n",
    "        index = (arr[i]/digit)\n",
    "        C[int(index % 10)] +=1\n",
    "        \n",
    "    for i in range(1,10):\n",
    "        C[i]+= C[i-1] #add prev\n",
    "    \n",
    "    for i in range(len(arr)-1,-1,-1):\n",
    "        index = (arr[i]/digit)\n",
    "        B[C[int(index % 10)]-1] = arr[i]\n",
    "        C[int(index % 10)]-=1\n",
    "          \n",
    "    for i in range(0,len(arr)):\n",
    "        arr[i]=B[i]\n",
    "    return arr"
   ]
  },
  {
   "cell_type": "code",
   "execution_count": 39,
   "metadata": {},
   "outputs": [],
   "source": [
    "def radixSort(arr):\n",
    "    max_element = max(arr)\n",
    "    digit =1 \n",
    "    while max_element/digit >0:\n",
    "        countSort1(arr,digit)\n",
    "        digit *=10\n"
   ]
  },
  {
   "cell_type": "code",
   "execution_count": 46,
   "metadata": {},
   "outputs": [
    {
     "name": "stdout",
     "output_type": "stream",
     "text": [
      "2 24 45 66 75 90 170 802 "
     ]
    }
   ],
   "source": [
    "if __name__=='__main__':\n",
    "    arr = [170, 45, 75, 90, 802, 24, 2, 66] \n",
    "  \n",
    "    # Function Call \n",
    "    radixSort(arr) \n",
    "      \n",
    "    for i in range(len(arr)): \n",
    "        print(arr[i], end=\" \") "
   ]
  },
  {
   "cell_type": "markdown",
   "metadata": {},
   "source": [
    "<b>Bucket Sort</b><br>\n",
    "Bucket sort assumes the input is a uniform distribution and has a average running time of $O(n)$. <br>\n",
    "- Counting sort assumes input consists of integers in a small range\n",
    "- Bucket sort assumes input is generated by a random process with uniform dist.\n",
    "- It sorts into $n$ equal sized buckets and distrubutes them into them. \n",
    "- Put into bucket\n",
    "- Go through bucket in order.\n",
    "- sort accordingly\n"
   ]
  },
  {
   "cell_type": "code",
   "execution_count": 53,
   "metadata": {},
   "outputs": [],
   "source": [
    "def insertionSort(arr):\n",
    "    for i in range(1,len(arr)):\n",
    "        #set as highest value\n",
    "        key = arr[i]\n",
    "        # Move elements of arr[0..i-1], that are \n",
    "        # greater than key, to one position ahead \n",
    "        # of their current position \n",
    "        j = i - 1\n",
    "        while j >=0 and arr[j] > key:\n",
    "            arr[j+1] = arr [j]\n",
    "            j-=1\n",
    "        arr[j+1]=key\n",
    "    return arr\n",
    "\n",
    "def bucketSort(arr):\n",
    "    out = []\n",
    "    #resolution of 0.1, 10 buckets\n",
    "    slot_num = 10\n",
    "    for i in range(slot_num):\n",
    "        out.append([])\n",
    "    #place arrays into the various buckets\n",
    "    for j in arr:\n",
    "        #make the float an integer and put into that integer bucket\n",
    "        index_b = int(slot_num * j)\n",
    "        out[index_b].append(j)\n",
    "    # Sort individual buckets (within using insertion sort)\n",
    "    for i in range(slot_num):\n",
    "        out[i]=insertionSort(out[i])\n",
    "    #concat result\n",
    "    \n",
    "    k=0\n",
    "    for i in range(slot_num):\n",
    "        for j in range(len(out[i])):\n",
    "            arr[k] = out[i][j]\n",
    "            k+=1\n",
    "    return arr\n",
    "        \n",
    "    "
   ]
  },
  {
   "cell_type": "code",
   "execution_count": 54,
   "metadata": {},
   "outputs": [
    {
     "name": "stdout",
     "output_type": "stream",
     "text": [
      "Sorted Array is\n",
      "[0.1234, 0.3434, 0.565, 0.656, 0.665, 0.897]\n"
     ]
    }
   ],
   "source": [
    "x = [0.897, 0.565, 0.656, \n",
    "     0.1234, 0.665, 0.3434]  \n",
    "print(\"Sorted Array is\") \n",
    "print(bucketSort(x)) "
   ]
  }
 ],
 "metadata": {
  "kernelspec": {
   "display_name": "Python 3",
   "language": "python",
   "name": "python3"
  },
  "language_info": {
   "codemirror_mode": {
    "name": "ipython",
    "version": 3
   },
   "file_extension": ".py",
   "mimetype": "text/x-python",
   "name": "python",
   "nbconvert_exporter": "python",
   "pygments_lexer": "ipython3",
   "version": "3.8.2"
  }
 },
 "nbformat": 4,
 "nbformat_minor": 4
}
