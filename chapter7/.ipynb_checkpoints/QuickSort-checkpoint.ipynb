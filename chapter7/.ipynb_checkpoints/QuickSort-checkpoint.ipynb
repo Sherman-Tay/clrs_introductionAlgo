{
 "cells": [
  {
   "cell_type": "markdown",
   "metadata": {},
   "source": [
    "<b>QuickSort</b><br>\n",
    "quicksort is similar to merge sort in the sense that it applies the divide and conquer methodology. <br>\n",
    "It divides through rearranging the array into partitions.<br>\n",
    "It conquers by sorting the 2 subarrays by recursive calling<br>\n",
    "It does not need to combine as the entire array is already sorted<br>\n",
    "\n",
    "<b>Quicksort(A,p,r)</b><br>\n",
    "if p<r <br>\n",
    "q = Partition(A,p,r)<br>\n",
    "Quicksort(A,p,q-1)<br>\n",
    "Quicksort(A,q+1,r)<br>\n",
    "This rearranges the subarray in place.<br>\n",
    "<b>Partition(A,p,r)</b><br>\n",
    "x=A[r]<br>\n",
    "i=p-1<br>\n",
    "for j =p to r-1<br>\n",
    "if A[j]<=x<br>\n",
    "i=i+1<br>\n",
    "exchange A[i] and A[j]<br>\n",
    "exchange A[i+1] and A[r]<br>\n",
    "return i+1<br>\n",
    "\n",
    "What happens is that we randomly select a pivot A[r] and call it x.<br>\n",
    "We then have 3 zones.<br> \n",
    "1.between p(start) and i(partition) it is less than x<br>\n",
    "2.between i+1(after partition) to j-1(last performed), it is more than x<br>\n",
    "3. if k=r, then value at k = x.<br>\n",
    "<b>Init:</b> Prior to the first iteration of the loop, i =p-1 and j=p. Because no values lie between p and i and no values lie between i+1 and j-1,the first two conditions of the loop invariant are trivially satisfied. The assignment\n",
    "in line 1 satisfies the third condition<br>\n",
    "\n",
    "<b>Maint:</b>depending on test outcome, if greater than x, we increase j. when less than or equal to x, loop increments i and swaps A[i]and A[j] and then increase j. Therefore loop invariant.<br>\n",
    "<b>Termination:</b> This happens when j=r, and we swap the pivot with the highest value, which will always be i+1.<br>"
   ]
  },
  {
   "cell_type": "code",
   "execution_count": 41,
   "metadata": {},
   "outputs": [],
   "source": [
    "#Hoare Partition\n",
    "def hoarePartition(arr,p,r):\n",
    "    x = arr[p] # set pivot as first value\n",
    "    i= p-1\n",
    "    j= r+1\n",
    "    while 1:\n",
    "        i=i+1\n",
    "        while arr[i]<x:\n",
    "            i=i+1\n",
    "        j=j-1\n",
    "        while arr[j]>x:\n",
    "            j=j-1\n",
    "        if i>=j:\n",
    "            return j\n",
    "        arr[i],arr[j]=arr[j],arr[i]\n",
    "    \n",
    "def quickSortHoare(arr,p,r):\n",
    "    if len(arr)==1:\n",
    "        return arr\n",
    "    if p<r:\n",
    "        q= hoarePartition(arr,p,r)\n",
    "        quickSortHoare(arr,p,q)\n",
    "        quickSortHoare(arr,q+1,r)\n",
    "        \n",
    "  "
   ]
  },
  {
   "cell_type": "markdown",
   "metadata": {},
   "source": [
    "<b>Hoare Partition:</b><br>\n",
    "https://www.youtube.com/watch?v=NuQYFXmLUrM&vl=en<br>\n",
    "\n",
    "The hoare partition works such that we set an initial pivot, which will compare the start array value with it. if the value is less than pivot, we move to next. until the value is greater than pivot.<br>\n",
    "\n",
    "similarly from the end of the array, if the value is greater than the pivot it moves to prev. until value is smaller than pivot.<br>\n",
    "\n",
    "We swap these 2 values, and continue until i>=j."
   ]
  },
  {
   "cell_type": "code",
   "execution_count": 44,
   "metadata": {},
   "outputs": [
    {
     "name": "stdout",
     "output_type": "stream",
     "text": [
      "Sorted array is:\n",
      "1 1 1 2 3 3 3 3 6 6 9 9 9 11 11 11 12 13 17 17 17 18 18 18 19 21 22 23 26 27 32 33 34 34 35 35 35 36 37 38 38 39 40 40 40 42 43 43 43 43 44 44 45 45 46 46 48 49 50 52 54 55 56 59 60 62 64 64 65 67 69 69 70 71 72 73 74 74 78 79 79 79 80 81 81 82 83 86 87 87 89 89 91 91 94 94 95 97 100 100 "
     ]
    }
   ],
   "source": [
    "from random import randint\n",
    "arr = []\n",
    "for p in range(100):\n",
    "    arr.append(randint(1,100))\n",
    "n = len(arr)\n",
    "quickSortHoare(arr, 0, n-1) \n",
    "print(\"Sorted array is:\") \n",
    "for i in range(n): \n",
    "    print(arr[i],end=\" \")"
   ]
  },
  {
   "cell_type": "code",
   "execution_count": 24,
   "metadata": {},
   "outputs": [],
   "source": [
    "def quickSort(arr,p,r):\n",
    "    if len(arr)==1:\n",
    "        return arr\n",
    "    if p<r:\n",
    "        q = partition(arr,p,r)\n",
    "        quickSort(arr,p,q-1)\n",
    "        quickSort(arr,q+1,r)\n",
    "        \n",
    "def partition(arr,p,r):\n",
    "    i = p-1 #index of small element\n",
    "    x = arr[r] #pivot value\n",
    "    \n",
    "    for j in range(p,r):\n",
    "        if arr[j]<= x: #if greater, we shift partition right and swap.\n",
    "            i=i+1\n",
    "            arr[i],arr[j] = arr[j],arr[i]\n",
    "                        #otherwise we increase j only.\n",
    "    arr[i+1],arr[r]=arr[r],arr[i+1] #we swap the pivot to the partition pos.\n",
    "    return (i+1)\n"
   ]
  },
  {
   "cell_type": "code",
   "execution_count": 45,
   "metadata": {},
   "outputs": [
    {
     "name": "stdout",
     "output_type": "stream",
     "text": [
      "Sorted array is:\n",
      "1 2 2 3 4 5 5 6 6 6 8 9 11 13 13 14 16 17 19 21 22 22 23 23 23 24 24 25 26 26 27 27 28 29 33 35 37 37 38 39 40 41 42 42 43 43 43 45 47 49 49 50 51 51 52 52 53 53 54 55 56 58 58 58 60 61 61 62 64 65 66 69 69 70 71 72 74 78 79 79 82 84 86 87 88 88 89 89 92 92 92 93 93 93 94 95 96 97 99 100 "
     ]
    }
   ],
   "source": [
    "from random import randint\n",
    "arr = []\n",
    "for p in range(100):\n",
    "    arr.append(randint(1,100))\n",
    "n = len(arr)\n",
    "quickSort(arr, 0, n-1) \n",
    "print(\"Sorted array is:\") \n",
    "for i in range(n): \n",
    "    print(arr[i],end=\" \")"
   ]
  },
  {
   "cell_type": "markdown",
   "metadata": {},
   "source": [
    "<b>Tail Recursive Quicksort</b><br>\n",
    "This is to reduce the number of recursive calls from 2 to 1.<br>\n",
    "Although reduced number of recursive calls, the code can still be O(n) in worst case, where first part always has n-1 elements.(selecting pivot). <br>\n",
    "Further optimization calls for us to only recursively call for the smaller part after partition.<br>"
   ]
  },
  {
   "cell_type": "code",
   "execution_count": 46,
   "metadata": {},
   "outputs": [],
   "source": [
    "def tail_quickSort(arr,p,r):\n",
    "    while(p<r):\n",
    "        q = partition(arr,p,r)\n",
    "        tail_quickSort(arr,p,q-1)\n",
    "        p = q+1"
   ]
  },
  {
   "cell_type": "code",
   "execution_count": 47,
   "metadata": {},
   "outputs": [
    {
     "name": "stdout",
     "output_type": "stream",
     "text": [
      "Sorted array is:\n",
      "2 4 5 6 6 7 8 8 8 10 10 11 13 15 15 15 16 16 16 17 18 18 18 20 20 22 24 26 26 27 27 30 30 35 36 36 36 39 40 41 42 43 45 46 47 50 53 53 53 54 54 56 56 58 58 59 61 62 62 64 66 67 68 69 70 70 71 71 74 75 76 77 77 78 78 79 80 80 81 81 81 83 84 85 85 85 86 86 87 89 91 91 92 95 96 97 97 98 99 99 "
     ]
    }
   ],
   "source": [
    "arr = []\n",
    "for p in range(100):\n",
    "    arr.append(randint(1,100))\n",
    "n = len(arr)\n",
    "tail_quickSort(arr, 0, n-1) \n",
    "print(\"Sorted array is:\") \n",
    "for i in range(n): \n",
    "    print(arr[i],end=\" \")"
   ]
  },
  {
   "cell_type": "code",
   "execution_count": 48,
   "metadata": {},
   "outputs": [],
   "source": [
    "def optimized_tailquickSort(arr,p,r):\n",
    "    while(p<r):\n",
    "        q = partition(arr,p,r)\n",
    "        if ((q-p)<(r-q)):\n",
    "            optimized_tailquickSort(arr,p,q-1)\n",
    "            p = q+1\n",
    "        else:\n",
    "            optimized_tailquickSort(arr,q+1,r)\n",
    "            r = q-1"
   ]
  },
  {
   "cell_type": "code",
   "execution_count": 50,
   "metadata": {},
   "outputs": [
    {
     "name": "stdout",
     "output_type": "stream",
     "text": [
      "Sorted array is:\n",
      "1 1 4 4 6 6 8 9 11 11 13 14 15 16 16 17 17 17 19 19 19 22 22 23 24 26 26 27 30 31 31 31 33 35 36 38 38 39 41 43 44 45 45 45 46 46 47 49 49 50 52 53 53 55 55 57 58 59 60 60 61 62 62 63 63 64 64 64 65 65 66 67 70 72 73 74 75 77 77 80 80 80 82 83 83 85 86 87 87 87 89 89 91 93 94 95 95 97 97 100 "
     ]
    }
   ],
   "source": [
    "arr = []\n",
    "for p in range(100):\n",
    "    arr.append(randint(1,100))\n",
    "n = len(arr)\n",
    "optimized_tailquickSort(arr, 0, n-1) \n",
    "print(\"Sorted array is:\") \n",
    "for i in range(n): \n",
    "    print(arr[i],end=\" \")"
   ]
  },
  {
   "cell_type": "markdown",
   "metadata": {},
   "source": [
    "<b>Worst Case for Typical Quicksort:</b><br>\n",
    "Worst case partitioning occurs when partitioning produces a subproblem of n-1 elements and 1 with 0 elements. In other words, the split always selects the corner of the array, not a good pivot. either the highest/lowest values. The best case on the other hand would involve an even split(the perfect pivot)<br>\n",
    "<br>\n",
    "This introduces the concept of random sampling into quicksort, instead of using A[r] as a pivot, we select a randomly chosen element from the subarray, exchanging the element A[r] with an element chosen at random from A[p..r]. As such, we ensure the pivot element is equally likely to be any of the elements in the subarray. -> this leads to *hopefully* a well balanced average. "
   ]
  },
  {
   "cell_type": "code",
   "execution_count": 52,
   "metadata": {},
   "outputs": [],
   "source": [
    "def randomizedPartition(arr,p,r):\n",
    "    i=randint(p,r)\n",
    "    arr[r],arr[i]=arr[i],arr[r]\n",
    "    return partition(arr,p,r)\n",
    "\n",
    "def randomizedQuicksort(arr,p,r):\n",
    "    if p<r:\n",
    "        q=randomizedPartition(arr,p,r)\n",
    "        randomizedQuicksort(arr,p,q-1)\n",
    "        randomizedQuicksort(arr,q+1,r)"
   ]
  },
  {
   "cell_type": "code",
   "execution_count": 53,
   "metadata": {},
   "outputs": [
    {
     "name": "stdout",
     "output_type": "stream",
     "text": [
      "Sorted array is:\n",
      "1 2 2 3 3 5 6 6 6 7 7 8 10 12 14 15 16 16 18 19 21 23 23 26 27 28 28 31 31 32 33 33 33 34 35 36 37 38 40 42 42 43 43 43 44 45 46 46 46 47 48 48 49 49 50 50 50 51 51 56 56 57 57 57 59 60 62 66 67 68 71 73 74 75 75 77 82 83 83 83 84 84 84 85 86 87 87 88 89 90 90 94 96 97 97 98 98 99 99 99 "
     ]
    }
   ],
   "source": [
    "arr = []\n",
    "for p in range(100):\n",
    "    arr.append(randint(1,100))\n",
    "n = len(arr)\n",
    "randomizedQuicksort(arr, 0, n-1) \n",
    "print(\"Sorted array is:\") \n",
    "for i in range(n): \n",
    "    print(arr[i],end=\" \")"
   ]
  }
 ],
 "metadata": {
  "kernelspec": {
   "display_name": "Python 3",
   "language": "python",
   "name": "python3"
  },
  "language_info": {
   "codemirror_mode": {
    "name": "ipython",
    "version": 3
   },
   "file_extension": ".py",
   "mimetype": "text/x-python",
   "name": "python",
   "nbconvert_exporter": "python",
   "pygments_lexer": "ipython3",
   "version": "3.8.2"
  }
 },
 "nbformat": 4,
 "nbformat_minor": 4
}
