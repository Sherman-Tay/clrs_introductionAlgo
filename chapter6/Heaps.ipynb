{
 "cells": [
  {
   "cell_type": "markdown",
   "metadata": {},
   "source": [
    "<b>Data Structures: Heaps</b>"
   ]
  },
  {
   "cell_type": "markdown",
   "metadata": {},
   "source": [
    "#Max Heap - takes in array and ndex i into array. \n",
    "#assumes Li and Ri are max-heaps, letting value float down.\n",
    "\n",
    "Pseudocode\n",
    "Max-Heapify(A,i)<br>\n",
    "l=L(i)<br>\n",
    "r=R(i)<br>\n",
    "if l<=A.heapsize and A.left > A[i]<br>\n",
    "    largest =l<br>\n",
    "    else largest = i <br>\n",
    "if r<=A.heapsize and A.r > A.largest<br>\n",
    "    largest =r<br>\n",
    "if largest is not i <br>\n",
    "    exchange A.i with A.largest<br>\n",
    "    Max-Heapify (A,largest)<br>\n",
    "    \n",
    " <br> \n",
    " This is essential swapping the largest values between the 3 and recursively doing it to let the highest value float down.\n",
    "  \n",
    "    \n"
   ]
  },
  {
   "cell_type": "markdown",
   "metadata": {},
   "source": [
    "<b>HeapSort</b><br>\n",
    "    To sort a max-heap structure into a sorted array.<br>\n",
    "    Take out the top value(max) then reduce heapsize by 1, and max-heapify<br>\n",
    "    excellent algorithm but quicksort is better in practice. <br>\n",
    "    Effective as a priority queue<br>"
   ]
  },
  {
   "cell_type": "markdown",
   "metadata": {},
   "source": [
    "Max Priority Queue.<br>\n",
    "<b>Heap Max</b> -> return position1<br>\n",
    "if less than 1, underflow (fail cond)<br>\n",
    "max = a.1<br>\n",
    "A1 = A(A.heapsize)<br>\n",
    "heapsize = heapsize -1<br>\n",
    "max heapify<br>\n",
    "<b>Heap-Increase Key</b><br>\n",
    "increase value of a key, and if it is higher than parent, swap<br>\n",
    "<b>Heap insert</b><br>\n",
    "Involves increasing the heap size, set last value as -infinity and call heap increase key to set new key"
   ]
  },
  {
   "cell_type": "code",
   "execution_count": 15,
   "metadata": {},
   "outputs": [],
   "source": [
    "# Implementation of Heapify\n",
    "\n",
    "def heapify(arr,n,i): #arr is arr[] input, n is size of heap and i is index/pos\n",
    "    largest =i; #initialize largest as root\n",
    "    left = 2*i+1;\n",
    "    right =2*i+2;\n",
    "    \n",
    "    #compare left child to and root\n",
    "    if left<n and arr[left]>arr[largest]:\n",
    "        largest = left;\n",
    "        \n",
    "    #compare right child to largest so far (root and left)\n",
    "    if right <n and arr[right]>arr[largest]:\n",
    "        largest = right;\n",
    "    \n",
    "    #if largest is not root swap the positions\n",
    "    if largest != i:\n",
    "        arr[i],arr[largest] =arr[largest],arr[i];\n",
    "        \n",
    "        heapify(arr,n,largest);\n",
    "#to build max heap from given array\n",
    "def buildHeap(arr,n):\n",
    "    startIdx=n//2-1 #start from last non-leaf node\n",
    "    for i in range(startIdx,-1,-1):\n",
    "        heapify(arr,n,i);\n",
    "\n",
    "#to show results\n",
    "def printHeap(arr,n):\n",
    "    print(\"array representation of heap is:\");\n",
    "    \n",
    "    for i in range(n):\n",
    "        print(arr[i], end =\" \");\n",
    "    print();\n",
    "    \n",
    "    "
   ]
  },
  {
   "cell_type": "code",
   "execution_count": 16,
   "metadata": {},
   "outputs": [
    {
     "name": "stdout",
     "output_type": "stream",
     "text": [
      "array representation of heap is:\n",
      "17 15 13 9 6 5 10 4 8 3 1 \n"
     ]
    }
   ],
   "source": [
    "if __name__ =='__main__':\n",
    "    arr = [1,3,5,4,6,13,10,9,8,15,17];\n",
    "    n=len(arr);\n",
    "    buildHeap(arr,n);\n",
    "    printHeap(arr,n);"
   ]
  }
 ],
 "metadata": {
  "kernelspec": {
   "display_name": "Python 3",
   "language": "python",
   "name": "python3"
  },
  "language_info": {
   "codemirror_mode": {
    "name": "ipython",
    "version": 3
   },
   "file_extension": ".py",
   "mimetype": "text/x-python",
   "name": "python",
   "nbconvert_exporter": "python",
   "pygments_lexer": "ipython3",
   "version": "3.8.2"
  }
 },
 "nbformat": 4,
 "nbformat_minor": 4
}
