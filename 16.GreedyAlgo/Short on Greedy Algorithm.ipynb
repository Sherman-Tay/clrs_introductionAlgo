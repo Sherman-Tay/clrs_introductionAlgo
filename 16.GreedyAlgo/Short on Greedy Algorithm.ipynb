{
 "cells": [
  {
   "cell_type": "markdown",
   "metadata": {},
   "source": [
    "A Greedy algorithm always makes the choiec that looks best at the moment- locally optimum choice. \n",
    "\n",
    "1. Min span tree\n",
    "2. Dijkstra algorithm\n",
    "3. Chvatal greedy set covering heuristics\n",
    "4. Activity selection problem \n",
    "    * dont have to solve all the sub problems, but make the greedy choice. \n",
    "5. Huffman Coding\n",
    "\n",
    "    <br>\n",
    "    \n",
    "Steps\n",
    "1. Cast the optimization problem as one in which we make a choice and are left with one subproblem to solve.\n",
    "2. Prove that there is always an optimal solution to the original problem that makes the greedy choice, so that the greedy choice is always safe.\n",
    "3. Demonstrate optimal substructure by showing that, having made the greedy choice, what remains is a subproblem with the property that if we combine an optimal solution to the subproblem with the greedy choice we have made, we arrive at an optimal solution to the original problem.\n",
    "\n",
    "\n",
    "<br>\n",
    "\n",
    "Concept: Matroids:<br>\n",
    "Matroids are an ordered pair satisfying the following conditions $M= (S,I)$\n",
    "1. S is a finites Set\n",
    "2. $I$ is nonempty family of subsets of S, called independent subset of S and $I$ is hereditary of it.\n",
    "3. M satisfies the Exchange property"
   ]
  }
 ],
 "metadata": {
  "kernelspec": {
   "display_name": "Python 3",
   "language": "python",
   "name": "python3"
  },
  "language_info": {
   "codemirror_mode": {
    "name": "ipython",
    "version": 3
   },
   "file_extension": ".py",
   "mimetype": "text/x-python",
   "name": "python",
   "nbconvert_exporter": "python",
   "pygments_lexer": "ipython3",
   "version": "3.8.2"
  }
 },
 "nbformat": 4,
 "nbformat_minor": 4
}
