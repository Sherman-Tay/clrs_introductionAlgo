{
 "cells": [
  {
   "cell_type": "markdown",
   "metadata": {},
   "source": [
    "<b>Stacks and Queues</b><br>\n",
    "These are dynamic sets representations.<br>\n",
    "\n",
    "Stack: Elements are deleted from most recently inserted (LIFO)<br>\n",
    "Queue: Elements are deleted from the ones set the longest (FIFO)<br>>\n",
    "\n",
    "This section we will explore the array implementation.<br>\n",
    "<b>Stacks</b><br>\n",
    "- Insert <-> Push\n",
    "- Delete <-> Pop\n",
    "- Stack.top attribute to indicate last inserted. \n",
    "- Stack consists of S[1..S.top]. If S.top = 0, stack is empty.\n",
    "- if we try pop empty stack (underflow)\n",
    "- if S.top exceeds n (overflow)<br>\n",
    "\n",
    "<b>Queue</b><br>\n",
    "- Insert <-> Enqueue\n",
    "- Delete <-> Dequeue\n",
    "- has a Q.head and Q.tail element, we always insert to tail and dequeue from head. \n",
    "- When Q.head = Q.tail, queue is empty. "
   ]
  },
  {
   "cell_type": "code",
   "execution_count": 2,
   "metadata": {},
   "outputs": [],
   "source": [
    "#need to create top as a class attribute to S\n",
    "def stackEmpty(S):\n",
    "    if S.top ==0:\n",
    "        return True\n",
    "    else: return False\n",
    "    \n",
    "def stackPush(S,x):\n",
    "    S.top +=1\n",
    "    S[S.top]=x\n",
    "    \n",
    "def stackPop(S):\n",
    "    if stackEmpty(S):\n",
    "        return print(\"error underflow\")\n",
    "    else: S.top -= 1\n",
    "    return S[S.top+1]"
   ]
  },
  {
   "cell_type": "code",
   "execution_count": 6,
   "metadata": {},
   "outputs": [],
   "source": [
    "def enqueue(Q,x):\n",
    "    Q[Q.tail]=x\n",
    "    if Q.head - Q.tail > len(Q): return print(\"error overflow\")\n",
    "    if Q.tail==len(Q):\n",
    "        Q.tail=1\n",
    "    else: Q.tail+=1\n",
    "        \n",
    "def dequeue(Q):\n",
    "    x = Q[Q.head]\n",
    "    if Q.head == Q.tail: return print(\"error underflow\")\n",
    "    if Q.head == len(Q):\n",
    "        Q.head=1\n",
    "    else: Q.head +=1\n",
    "    return x\n",
    "        \n"
   ]
  },
  {
   "cell_type": "markdown",
   "metadata": {},
   "source": [
    "<b>Linked Lists</b><br>\n",
    "Linked lists are data structures where objects are arranged in linear order. Unlike array, the order of the list is determined by a pointer in each object. \n",
    "\n",
    "- It enables flexible representation of dynamic sets\n",
    "- Each element of a double linked list has the attribute key and pointer attributes next and prev. \n",
    "- Given an element $x$, $x.next$ points to its successor and $x.prev$ points to its predecessor. if there are no predecessors, it is the first element. (ie. $x.prev$ =NIL) \n",
    "- if a linked list is singly linked, we omit prev.\n",
    "- An attribute L: head points to the first element of the list. If L: head = NIL, the list is empty.\n",
    "- if linked list is circular, head.prev points to the tail; tail.next points to head(L.head).<br>\n",
    "\n",
    "<b>Sentinel</b><br>\n",
    "a dummy object that simplifies boundary conditions. <br>\n",
    "\n",
    "- L.nil lies between the head and tail of the linked list.\n",
    "- L.nil.next points to the head\n",
    "- L.nil.prev points to the tail \n",
    "- similarly, head points to head.prev and tail.next points to L.nil\n"
   ]
  },
  {
   "cell_type": "code",
   "execution_count": 10,
   "metadata": {},
   "outputs": [],
   "source": [
    "def listSearch(L,k):\n",
    "    #finds first element with key = k in list L.\n",
    "    x = L.head\n",
    "    while x != NULL and x.key !=key:\n",
    "        x = x.next \n",
    "        #traverse whole list until it matches and return key\n",
    "    return x\n",
    "\n",
    "# to insert into front linked list, we know the key, splicing the next and prev.\n",
    "def listInsert(L,x):\n",
    "    #next is the current first key indicated by L.head\n",
    "    x.next = L.head\n",
    "    if L.head !=NULL:\n",
    "        L.head.prev = x\n",
    "    L.head = x\n",
    "    x.prev = NIL\n",
    "\n",
    "def listDelete(L,x):\n",
    "    if x.prev != NULL:\n",
    "        x.prev.next = x.next\n",
    "    #if it is the current L.head, we shift head to next.\n",
    "    else: L.head = x.next\n",
    "    if x.next != NULL:\n",
    "        x.next.prev = x.prev\n",
    "        \n"
   ]
  },
  {
   "cell_type": "code",
   "execution_count": null,
   "metadata": {},
   "outputs": [],
   "source": [
    "#A Sentinel is a dummy object that allows simplification of boundary conditions. Eg. object with L.nil to represent NIL.\n",
    "#this removes the requirement for attribute L.head, as it is accessed by L.nil.next\n",
    "def listDelete2(L,x):\n",
    "    x.prev.next = x.next\n",
    "    x.next.prev = x.prev\n",
    "\n",
    "def listSearch2(L,k):\n",
    "    x = L.nil.next\n",
    "    while x!=L.nil and x.key != k:\n",
    "        x = x.next\n",
    "    return x\n",
    "\n",
    "def listInsert2(L,x):\n",
    "    x.next = L.nil.next\n",
    "    L.nil.next.prev = x\n",
    "    L.nil.next = x\n",
    "    x.prev = L.nil\n"
   ]
  },
  {
   "cell_type": "markdown",
   "metadata": {},
   "source": [
    "Implementing Pointers and objects from scratch"
   ]
  }
 ],
 "metadata": {
  "kernelspec": {
   "display_name": "Python 3",
   "language": "python",
   "name": "python3"
  },
  "language_info": {
   "codemirror_mode": {
    "name": "ipython",
    "version": 3
   },
   "file_extension": ".py",
   "mimetype": "text/x-python",
   "name": "python",
   "nbconvert_exporter": "python",
   "pygments_lexer": "ipython3",
   "version": "3.8.2"
  }
 },
 "nbformat": 4,
 "nbformat_minor": 4
}
