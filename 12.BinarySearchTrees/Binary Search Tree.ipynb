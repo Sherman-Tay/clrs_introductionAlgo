{
 "cells": [
  {
   "cell_type": "markdown",
   "metadata": {},
   "source": [
    "- What are BSTs.\n",
    "- What are they used for.\n",
    "- Tree Search\n",
    "- Min and Max in tree\n",
    "- successor and predecessor\n",
    "- Insertion Deletion\n",
    "- Transplant or shift\n",
    "- Randomly built BST?\n",
    "- Give some examples of application of BSTs."
   ]
  },
  {
   "cell_type": "markdown",
   "metadata": {},
   "source": [
    "### Binary Search Trees\n",
    "They are a binary tree represented by nodesthat has a key and data, as well as the attributes left, right and p. If child or parent is missing, the appropriate attribute contains value NIL. Root node had root.p = NIL.\n",
    "<br>\n",
    "Keys are sorted such that left sub-tree key is always smaller than right.<br>\n",
    "BST can sort through the recursive algorithm of inorder tree walk. A pre-order tree walk prints root before, while postorder will print root after values. "
   ]
  },
  {
   "cell_type": "code",
   "execution_count": 16,
   "metadata": {},
   "outputs": [],
   "source": [
    "# A binary tree node \n",
    "class Node: \n",
    "      \n",
    "    # Constructor to create a new node \n",
    "    def __init__(self, data): \n",
    "        self.data = data  \n",
    "        self.left = None\n",
    "        self.right = None\n",
    "        self.p = None\n",
    "    \n",
    "    def get(self):\n",
    "        return self.val\n",
    "    \n",
    "    def getChildren(self):\n",
    "        children = []\n",
    "        if(self.left != None):\n",
    "            children.append(self.left)\n",
    "        if(self.right != None):\n",
    "            children.append(self.right)\n",
    "        return children\n",
    "\n",
    "        "
   ]
  },
  {
   "cell_type": "code",
   "execution_count": 8,
   "metadata": {},
   "outputs": [],
   "source": [
    "def inorderTreeWalk(x):\n",
    "    if x != None:\n",
    "        inorderTreeWalk(x.left)\n",
    "        print(x.data, end=\" \")\n",
    "        inorderTreeWalk(x.right)\n",
    "        \n",
    "# recursively calls itself twice for each node (for each child). linear time\n",
    "\n"
   ]
  },
  {
   "cell_type": "code",
   "execution_count": 40,
   "metadata": {},
   "outputs": [
    {
     "name": "stdout",
     "output_type": "stream",
     "text": [
      "4 2 5 1 3 \n",
      "4 2 5 1 3 "
     ]
    }
   ],
   "source": [
    "def inOrder(root):\n",
    "    #set current to root of binary tree\n",
    "    current = root\n",
    "    stack = []\n",
    "    done = 0\n",
    "    \n",
    "    while True:\n",
    "        #traverse to leftmost node of current node\n",
    "        if current is not None:\n",
    "            stack.append(current)\n",
    "            current = current.left\n",
    "        #place pointer to a tree on the stack before traversing.\n",
    "            \n",
    "        #backtrack from empty subtree and visit node top of stack. if empty, completed\n",
    "        elif(stack):\n",
    "            current = stack.pop()\n",
    "            print(current.data, end=\" \")\n",
    "            current = current.right\n",
    "        else:\n",
    "            break\n",
    "    print()\n",
    "        \n",
    "root = Node(1) \n",
    "root.left = Node(2) \n",
    "root.right = Node(3) \n",
    "root.left.left = Node(4) \n",
    "root.left.right = Node(5) \n",
    "root.left.p = root.right.p = Node(1)\n",
    "root.p = None\n",
    "root.left.left.p = root.left.right.p = Node(2)\n",
    "inOrder(root)\n",
    "inorderTreeWalk(root)"
   ]
  },
  {
   "cell_type": "markdown",
   "metadata": {},
   "source": [
    "### Querying a BST\n",
    "- Search\n",
    "- Minimum\n",
    "- Maximum\n",
    "- Successor\n",
    "- Predecessor\n",
    "\n"
   ]
  },
  {
   "cell_type": "code",
   "execution_count": 50,
   "metadata": {},
   "outputs": [
    {
     "name": "stdout",
     "output_type": "stream",
     "text": [
      "None\n",
      "None\n"
     ]
    }
   ],
   "source": [
    "def treeSearch(root,key):\n",
    "    if root is None or root.data==key:\n",
    "        return root\n",
    "    \n",
    "    if key < root.data:\n",
    "        return treeSearch(root.left,key)\n",
    "    return treeSearch(root.right,key)\n",
    "#quite like a decision tree.\n",
    "def iterativetreeSearch(x,key):\n",
    "    while x is not None and key != x.data:\n",
    "        if key < x.data:\n",
    "            x = x.left\n",
    "        else: x = x.right\n",
    "    return x\n",
    "            \n",
    "\n",
    "print(treeSearch(root,5))\n",
    "iterativetreeSearch(root,5)\n",
    "\n",
    "def treeMin(x):\n",
    "    while x.left != None:\n",
    "        x = x.left\n",
    "    return x.left\n",
    "\n",
    "def treeMax(x):\n",
    "    while x.right !=None:\n",
    "        x = x.right\n",
    "    return x\n",
    "#Successor is the node with smallest key greater than x.key.\n",
    "\n",
    "#run time is height of tree O(h), since it is traversing down to tree. \n",
    "def treeSuccessor(root,x):\n",
    "    #if right subtree non empty, the successor is the leftmost node of right subtree\n",
    "    if x.right is not None:\n",
    "        return treeMin(x.right)\n",
    "    #if right subtree is empty and x has successor \n",
    "    #y, y is the lowest ancestor whose left child is also ancestor of x.\n",
    "    #start from root and travel down tree. if a node.data > root data go right.\n",
    "    \n",
    "    y = Node(None)\n",
    "    \n",
    "    while(root):\n",
    "        if(root.data<n.data):\n",
    "            root = root.right\n",
    "        elif(root.data>n.data):\n",
    "            root = root.left\n",
    "        else:\n",
    "            break\n",
    "    return y\n",
    "    \n",
    "print(treeSuccessor(root,root.left))\n",
    "#look up more into pre and suc."
   ]
  },
  {
   "cell_type": "code",
   "execution_count": null,
   "metadata": {},
   "outputs": [],
   "source": []
  }
 ],
 "metadata": {
  "kernelspec": {
   "display_name": "Python 3",
   "language": "python",
   "name": "python3"
  },
  "language_info": {
   "codemirror_mode": {
    "name": "ipython",
    "version": 3
   },
   "file_extension": ".py",
   "mimetype": "text/x-python",
   "name": "python",
   "nbconvert_exporter": "python",
   "pygments_lexer": "ipython3",
   "version": "3.8.2"
  }
 },
 "nbformat": 4,
 "nbformat_minor": 4
}
